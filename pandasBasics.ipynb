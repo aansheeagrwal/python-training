{
  "nbformat": 4,
  "nbformat_minor": 0,
  "metadata": {
    "colab": {
      "provenance": [],
      "authorship_tag": "ABX9TyOufSApXthg/Yc8Vct5Y6wG",
      "include_colab_link": true
    },
    "kernelspec": {
      "name": "python3",
      "display_name": "Python 3"
    },
    "language_info": {
      "name": "python"
    }
  },
  "cells": [
    {
      "cell_type": "markdown",
      "metadata": {
        "id": "view-in-github",
        "colab_type": "text"
      },
      "source": [
        "<a href=\"https://colab.research.google.com/github/aansheeagrwal/python-training/blob/main/pandasBasics.ipynb\" target=\"_parent\"><img src=\"https://colab.research.google.com/assets/colab-badge.svg\" alt=\"Open In Colab\"/></a>"
      ]
    },
    {
      "cell_type": "code",
      "execution_count": 2,
      "metadata": {
        "id": "KsptgUTruAqW"
      },
      "outputs": [],
      "source": [
        "import pandas as pd"
      ]
    },
    {
      "cell_type": "code",
      "source": [
        "import numpy as np"
      ],
      "metadata": {
        "id": "PCuzLPOLu5t2"
      },
      "execution_count": 3,
      "outputs": []
    },
    {
      "cell_type": "code",
      "source": [
        "labels = ['a', 'b', 'c',]\n",
        "print(labels)"
      ],
      "metadata": {
        "colab": {
          "base_uri": "https://localhost:8080/"
        },
        "id": "SelGlsVfu8iY",
        "outputId": "1503d53c-6d04-46b5-a668-4b0f4da355b6"
      },
      "execution_count": 4,
      "outputs": [
        {
          "output_type": "stream",
          "name": "stdout",
          "text": [
            "['a', 'b', 'c']\n"
          ]
        }
      ]
    },
    {
      "cell_type": "code",
      "source": [
        "my_data = [10,20,30]\n",
        "print(my_data)\n"
      ],
      "metadata": {
        "colab": {
          "base_uri": "https://localhost:8080/"
        },
        "id": "Dns5Mgw0vGcO",
        "outputId": "0bd7b031-1761-4dc4-8038-591011cc8c19"
      },
      "execution_count": 5,
      "outputs": [
        {
          "output_type": "stream",
          "name": "stdout",
          "text": [
            "[10, 20, 30]\n"
          ]
        }
      ]
    },
    {
      "cell_type": "code",
      "source": [
        "arr = np.array(my_data)\n",
        "print(arr)"
      ],
      "metadata": {
        "colab": {
          "base_uri": "https://localhost:8080/"
        },
        "id": "DGUTuW1ZvLsC",
        "outputId": "4a964f58-658f-4f0e-9399-655253668989"
      },
      "execution_count": 6,
      "outputs": [
        {
          "output_type": "stream",
          "name": "stdout",
          "text": [
            "[10 20 30]\n"
          ]
        }
      ]
    },
    {
      "cell_type": "code",
      "source": [
        "d = {'a':10, 'b':20, 'c':30}\n",
        "print(d)"
      ],
      "metadata": {
        "colab": {
          "base_uri": "https://localhost:8080/"
        },
        "id": "guN2xzu3vRZo",
        "outputId": "cb4d2dad-6cc2-4679-cdec-b15fbab7e197"
      },
      "execution_count": 7,
      "outputs": [
        {
          "output_type": "stream",
          "name": "stdout",
          "text": [
            "{'a': 10, 'b': 20, 'c': 30}\n"
          ]
        }
      ]
    },
    {
      "cell_type": "code",
      "source": [
        "print(type(pd.Series(data=my_data)))"
      ],
      "metadata": {
        "colab": {
          "base_uri": "https://localhost:8080/"
        },
        "id": "iUzAKhz4vVT4",
        "outputId": "e7ba0ea8-89c4-44cb-d144-08c12519e7bd"
      },
      "execution_count": 8,
      "outputs": [
        {
          "output_type": "stream",
          "name": "stdout",
          "text": [
            "<class 'pandas.core.series.Series'>\n"
          ]
        }
      ]
    },
    {
      "cell_type": "code",
      "source": [
        "# define index\n",
        "pd.Series(data=my_data, index=labels)"
      ],
      "metadata": {
        "colab": {
          "base_uri": "https://localhost:8080/",
          "height": 178
        },
        "id": "LDgIgdXevb1r",
        "outputId": "9ba69205-ae39-4c2a-8eb6-71ff59c132e7"
      },
      "execution_count": 9,
      "outputs": [
        {
          "output_type": "execute_result",
          "data": {
            "text/plain": [
              "a    10\n",
              "b    20\n",
              "c    30\n",
              "dtype: int64"
            ],
            "text/html": [
              "<div>\n",
              "<style scoped>\n",
              "    .dataframe tbody tr th:only-of-type {\n",
              "        vertical-align: middle;\n",
              "    }\n",
              "\n",
              "    .dataframe tbody tr th {\n",
              "        vertical-align: top;\n",
              "    }\n",
              "\n",
              "    .dataframe thead th {\n",
              "        text-align: right;\n",
              "    }\n",
              "</style>\n",
              "<table border=\"1\" class=\"dataframe\">\n",
              "  <thead>\n",
              "    <tr style=\"text-align: right;\">\n",
              "      <th></th>\n",
              "      <th>0</th>\n",
              "    </tr>\n",
              "  </thead>\n",
              "  <tbody>\n",
              "    <tr>\n",
              "      <th>a</th>\n",
              "      <td>10</td>\n",
              "    </tr>\n",
              "    <tr>\n",
              "      <th>b</th>\n",
              "      <td>20</td>\n",
              "    </tr>\n",
              "    <tr>\n",
              "      <th>c</th>\n",
              "      <td>30</td>\n",
              "    </tr>\n",
              "  </tbody>\n",
              "</table>\n",
              "</div><br><label><b>dtype:</b> int64</label>"
            ]
          },
          "metadata": {},
          "execution_count": 9
        }
      ]
    },
    {
      "cell_type": "code",
      "source": [
        "p_series = pd.Series(arr)\n",
        "print(p_series)"
      ],
      "metadata": {
        "colab": {
          "base_uri": "https://localhost:8080/"
        },
        "id": "KCcrVturv1At",
        "outputId": "da7ed31a-1f8e-4f67-a614-a3a6c6738217"
      },
      "execution_count": 10,
      "outputs": [
        {
          "output_type": "stream",
          "name": "stdout",
          "text": [
            "0    10\n",
            "1    20\n",
            "2    30\n",
            "dtype: int64\n"
          ]
        }
      ]
    },
    {
      "cell_type": "code",
      "source": [
        "pd.Series(arr, labels)"
      ],
      "metadata": {
        "colab": {
          "base_uri": "https://localhost:8080/",
          "height": 178
        },
        "id": "V_G9dgjSwAyJ",
        "outputId": "a58072b8-34fd-4057-e2cf-8ea86be28952"
      },
      "execution_count": 11,
      "outputs": [
        {
          "output_type": "execute_result",
          "data": {
            "text/plain": [
              "a    10\n",
              "b    20\n",
              "c    30\n",
              "dtype: int64"
            ],
            "text/html": [
              "<div>\n",
              "<style scoped>\n",
              "    .dataframe tbody tr th:only-of-type {\n",
              "        vertical-align: middle;\n",
              "    }\n",
              "\n",
              "    .dataframe tbody tr th {\n",
              "        vertical-align: top;\n",
              "    }\n",
              "\n",
              "    .dataframe thead th {\n",
              "        text-align: right;\n",
              "    }\n",
              "</style>\n",
              "<table border=\"1\" class=\"dataframe\">\n",
              "  <thead>\n",
              "    <tr style=\"text-align: right;\">\n",
              "      <th></th>\n",
              "      <th>0</th>\n",
              "    </tr>\n",
              "  </thead>\n",
              "  <tbody>\n",
              "    <tr>\n",
              "      <th>a</th>\n",
              "      <td>10</td>\n",
              "    </tr>\n",
              "    <tr>\n",
              "      <th>b</th>\n",
              "      <td>20</td>\n",
              "    </tr>\n",
              "    <tr>\n",
              "      <th>c</th>\n",
              "      <td>30</td>\n",
              "    </tr>\n",
              "  </tbody>\n",
              "</table>\n",
              "</div><br><label><b>dtype:</b> int64</label>"
            ]
          },
          "metadata": {},
          "execution_count": 11
        }
      ]
    },
    {
      "cell_type": "code",
      "source": [
        "# using dictionary\n",
        "pd.Series(d)\n",
        "print(d)"
      ],
      "metadata": {
        "colab": {
          "base_uri": "https://localhost:8080/"
        },
        "id": "ocUnDH9OwHQc",
        "outputId": "0ab12f04-8250-4bfb-8df8-35d3891a16e6"
      },
      "execution_count": 12,
      "outputs": [
        {
          "output_type": "stream",
          "name": "stdout",
          "text": [
            "{'a': 10, 'b': 20, 'c': 30}\n"
          ]
        }
      ]
    },
    {
      "cell_type": "code",
      "source": [
        "#Series can hold any kind of data object with python like string, integer\n",
        "print(pd.Series(labels))\n",
        "print(pd.Series(data = labels))"
      ],
      "metadata": {
        "colab": {
          "base_uri": "https://localhost:8080/"
        },
        "id": "r2Ux4Nq0wNUc",
        "outputId": "6eaf8b58-6acb-44cc-91b0-166692512031"
      },
      "execution_count": 13,
      "outputs": [
        {
          "output_type": "stream",
          "name": "stdout",
          "text": [
            "0    a\n",
            "1    b\n",
            "2    c\n",
            "dtype: object\n",
            "0    a\n",
            "1    b\n",
            "2    c\n",
            "dtype: object\n"
          ]
        }
      ]
    },
    {
      "cell_type": "code",
      "source": [
        "pd.Series([sum, print, len])"
      ],
      "metadata": {
        "colab": {
          "base_uri": "https://localhost:8080/",
          "height": 178
        },
        "id": "U6bo5OBAwvW3",
        "outputId": "9b77c82f-e898-41dc-f86f-9ce232abf655"
      },
      "execution_count": 14,
      "outputs": [
        {
          "output_type": "execute_result",
          "data": {
            "text/plain": [
              "0      <built-in function sum>\n",
              "1    <built-in function print>\n",
              "2      <built-in function len>\n",
              "dtype: object"
            ],
            "text/html": [
              "<div>\n",
              "<style scoped>\n",
              "    .dataframe tbody tr th:only-of-type {\n",
              "        vertical-align: middle;\n",
              "    }\n",
              "\n",
              "    .dataframe tbody tr th {\n",
              "        vertical-align: top;\n",
              "    }\n",
              "\n",
              "    .dataframe thead th {\n",
              "        text-align: right;\n",
              "    }\n",
              "</style>\n",
              "<table border=\"1\" class=\"dataframe\">\n",
              "  <thead>\n",
              "    <tr style=\"text-align: right;\">\n",
              "      <th></th>\n",
              "      <th>0</th>\n",
              "    </tr>\n",
              "  </thead>\n",
              "  <tbody>\n",
              "    <tr>\n",
              "      <th>0</th>\n",
              "      <td>&lt;built-in function sum&gt;</td>\n",
              "    </tr>\n",
              "    <tr>\n",
              "      <th>1</th>\n",
              "      <td>&lt;built-in function print&gt;</td>\n",
              "    </tr>\n",
              "    <tr>\n",
              "      <th>2</th>\n",
              "      <td>&lt;built-in function len&gt;</td>\n",
              "    </tr>\n",
              "  </tbody>\n",
              "</table>\n",
              "</div><br><label><b>dtype:</b> object</label>"
            ]
          },
          "metadata": {},
          "execution_count": 14
        }
      ]
    },
    {
      "cell_type": "code",
      "source": [
        "s1 = pd.Series([1, 2, 3, 4], ['A', 'B', 'C', 'D'])\n",
        "print(s1)\n",
        "s2 = pd.Series([1, 2, 5, 4], ['A', 'B', 'C', 'D'])\n",
        "print(s2)\n",
        "print(s1['A'])"
      ],
      "metadata": {
        "colab": {
          "base_uri": "https://localhost:8080/"
        },
        "id": "uCQjrAfww0PM",
        "outputId": "f81800ee-74e6-4d56-a5df-e3ce0c80cc99"
      },
      "execution_count": 15,
      "outputs": [
        {
          "output_type": "stream",
          "name": "stdout",
          "text": [
            "A    1\n",
            "B    2\n",
            "C    3\n",
            "D    4\n",
            "dtype: int64\n",
            "A    1\n",
            "B    2\n",
            "C    5\n",
            "D    4\n",
            "dtype: int64\n",
            "1\n"
          ]
        }
      ]
    },
    {
      "cell_type": "code",
      "source": [
        "# all operations in series are based on index in order to retrain all possible information pandas will convert int values to float\n",
        "print(s1+s2)"
      ],
      "metadata": {
        "colab": {
          "base_uri": "https://localhost:8080/"
        },
        "id": "m8el9T6BxShn",
        "outputId": "2be8c92e-cad7-4037-a399-160641efd5c6"
      },
      "execution_count": 16,
      "outputs": [
        {
          "output_type": "stream",
          "name": "stdout",
          "text": [
            "A    2\n",
            "B    4\n",
            "C    8\n",
            "D    8\n",
            "dtype: int64\n"
          ]
        }
      ]
    },
    {
      "cell_type": "code",
      "source": [
        "# Data Frame\n",
        "import numpy as np\n",
        "import pandas as pd\n",
        "from numpy.random import randn\n",
        "np.random.seed(101)"
      ],
      "metadata": {
        "id": "QphtFMjQxizF"
      },
      "execution_count": 17,
      "outputs": []
    },
    {
      "cell_type": "code",
      "source": [
        "df = pd.DataFrame(randn(5,4), ['A', 'B', 'C', 'D', 'E'], ['K', 'L', 'M', 'N'])\n",
        "print(df)"
      ],
      "metadata": {
        "colab": {
          "base_uri": "https://localhost:8080/"
        },
        "id": "cEfIEs4dxw56",
        "outputId": "4c716f20-b8a3-460d-874c-6e3ae9ac09ff"
      },
      "execution_count": 18,
      "outputs": [
        {
          "output_type": "stream",
          "name": "stdout",
          "text": [
            "          K         L         M         N\n",
            "A  2.706850  0.628133  0.907969  0.503826\n",
            "B  0.651118 -0.319318 -0.848077  0.605965\n",
            "C -2.018168  0.740122  0.528813 -0.589001\n",
            "D  0.188695 -0.758872 -0.933237  0.955057\n",
            "E  0.190794  1.978757  2.605967  0.683509\n"
          ]
        }
      ]
    },
    {
      "cell_type": "code",
      "source": [
        "print(df[\"K\"])"
      ],
      "metadata": {
        "colab": {
          "base_uri": "https://localhost:8080/"
        },
        "id": "O781CWnmx11O",
        "outputId": "0b2a19eb-1419-4a45-e010-07ffe4749dd4"
      },
      "execution_count": 19,
      "outputs": [
        {
          "output_type": "stream",
          "name": "stdout",
          "text": [
            "A    2.706850\n",
            "B    0.651118\n",
            "C   -2.018168\n",
            "D    0.188695\n",
            "E    0.190794\n",
            "Name: K, dtype: float64\n"
          ]
        }
      ]
    },
    {
      "cell_type": "code",
      "source": [
        "print(type(df[\"K\"]))"
      ],
      "metadata": {
        "colab": {
          "base_uri": "https://localhost:8080/"
        },
        "id": "LjvK7lnbx5vv",
        "outputId": "7942496d-edca-4e04-d98f-d2c85bc22249"
      },
      "execution_count": 20,
      "outputs": [
        {
          "output_type": "stream",
          "name": "stdout",
          "text": [
            "<class 'pandas.core.series.Series'>\n"
          ]
        }
      ]
    },
    {
      "cell_type": "code",
      "source": [
        "# single column will return series object, multiple columns will return dataframe.\n",
        "print(df[['K']])\n",
        "print(type(df[['K']]))\n",
        "print(df['L'])\n",
        "print(type(df['L']))\n",
        "print(df[['K', 'M']])\n",
        "print(type(df[['K', 'M']]))"
      ],
      "metadata": {
        "colab": {
          "base_uri": "https://localhost:8080/"
        },
        "id": "kJKo2dh0yJFq",
        "outputId": "39264296-7b16-4468-8a62-b2dedb656a52"
      },
      "execution_count": 21,
      "outputs": [
        {
          "output_type": "stream",
          "name": "stdout",
          "text": [
            "          K\n",
            "A  2.706850\n",
            "B  0.651118\n",
            "C -2.018168\n",
            "D  0.188695\n",
            "E  0.190794\n",
            "<class 'pandas.core.frame.DataFrame'>\n",
            "A    0.628133\n",
            "B   -0.319318\n",
            "C    0.740122\n",
            "D   -0.758872\n",
            "E    1.978757\n",
            "Name: L, dtype: float64\n",
            "<class 'pandas.core.series.Series'>\n",
            "          K         M\n",
            "A  2.706850  0.907969\n",
            "B  0.651118 -0.848077\n",
            "C -2.018168  0.528813\n",
            "D  0.188695 -0.933237\n",
            "E  0.190794  2.605967\n",
            "<class 'pandas.core.frame.DataFrame'>\n"
          ]
        }
      ]
    },
    {
      "cell_type": "code",
      "source": [
        "df[\"G\"] = df[\"K\"] + df[\"L\"]\n",
        "print(df)"
      ],
      "metadata": {
        "colab": {
          "base_uri": "https://localhost:8080/"
        },
        "id": "AxvQiNjcymtF",
        "outputId": "f36567d0-51e2-4c3b-eb06-212a9723162b"
      },
      "execution_count": 22,
      "outputs": [
        {
          "output_type": "stream",
          "name": "stdout",
          "text": [
            "          K         L         M         N         G\n",
            "A  2.706850  0.628133  0.907969  0.503826  3.334983\n",
            "B  0.651118 -0.319318 -0.848077  0.605965  0.331800\n",
            "C -2.018168  0.740122  0.528813 -0.589001 -1.278046\n",
            "D  0.188695 -0.758872 -0.933237  0.955057 -0.570177\n",
            "E  0.190794  1.978757  2.605967  0.683509  2.169552\n"
          ]
        }
      ]
    },
    {
      "cell_type": "code",
      "source": [
        "df = df.drop('G', axis=1)\n",
        "print(df)"
      ],
      "metadata": {
        "colab": {
          "base_uri": "https://localhost:8080/"
        },
        "id": "O4QbqlPFy4Xs",
        "outputId": "ed0b1864-33d0-4a8e-8db5-c5e9683b8517"
      },
      "execution_count": 23,
      "outputs": [
        {
          "output_type": "stream",
          "name": "stdout",
          "text": [
            "          K         L         M         N\n",
            "A  2.706850  0.628133  0.907969  0.503826\n",
            "B  0.651118 -0.319318 -0.848077  0.605965\n",
            "C -2.018168  0.740122  0.528813 -0.589001\n",
            "D  0.188695 -0.758872 -0.933237  0.955057\n",
            "E  0.190794  1.978757  2.605967  0.683509\n"
          ]
        }
      ]
    },
    {
      "cell_type": "code",
      "source": [
        "# axis = 1 refer to columns\n",
        "#axis = 0 refer to rows\n",
        "\n",
        "# df = df.drop('E', axis = 0)\n",
        "#print(df)"
      ],
      "metadata": {
        "id": "cJK-oLkWy7ZO"
      },
      "execution_count": 24,
      "outputs": []
    },
    {
      "cell_type": "code",
      "source": [
        "df.drop('K', axis=1, inplace=True)\n",
        "print(df)"
      ],
      "metadata": {
        "colab": {
          "base_uri": "https://localhost:8080/"
        },
        "id": "os1a1s0RzP3x",
        "outputId": "a4534b97-4cec-46de-c131-cabfad02f359"
      },
      "execution_count": 25,
      "outputs": [
        {
          "output_type": "stream",
          "name": "stdout",
          "text": [
            "          L         M         N\n",
            "A  0.628133  0.907969  0.503826\n",
            "B -0.319318 -0.848077  0.605965\n",
            "C  0.740122  0.528813 -0.589001\n",
            "D -0.758872 -0.933237  0.955057\n",
            "E  1.978757  2.605967  0.683509\n"
          ]
        }
      ]
    },
    {
      "cell_type": "code",
      "source": [
        "#inplace = False, which is the default, then the operation is performed and it returs a copy of the object"
      ],
      "metadata": {
        "id": "m8BoXhrzzUGH"
      },
      "execution_count": 26,
      "outputs": []
    },
    {
      "cell_type": "code",
      "source": [
        "import pandas as pd\n",
        "import numpy as np"
      ],
      "metadata": {
        "id": "1mpLAzEB0b3w"
      },
      "execution_count": 27,
      "outputs": []
    },
    {
      "cell_type": "code",
      "source": [
        "labels = [\"a\",\"b\",\"c\"]\n",
        "print(labels)\n",
        "my_data = [10,20,30]\n",
        "print(my_data)\n",
        "arr = np.array(my_data)\n",
        "print(arr)\n",
        "d = {\"a\":10, \"b\":20, \"c\":30}\n",
        "print(d)"
      ],
      "metadata": {
        "colab": {
          "base_uri": "https://localhost:8080/"
        },
        "id": "KKRWW5rM0jJ6",
        "outputId": "4f32de2a-616b-4971-af7d-b172abadbda7"
      },
      "execution_count": 28,
      "outputs": [
        {
          "output_type": "stream",
          "name": "stdout",
          "text": [
            "['a', 'b', 'c']\n",
            "[10, 20, 30]\n",
            "[10 20 30]\n",
            "{'a': 10, 'b': 20, 'c': 30}\n"
          ]
        }
      ]
    },
    {
      "cell_type": "code",
      "source": [
        "print(df)"
      ],
      "metadata": {
        "colab": {
          "base_uri": "https://localhost:8080/"
        },
        "id": "LFzTW8YW0wrw",
        "outputId": "cc62dc8a-b64b-48bd-f0c9-5fa551bdea74"
      },
      "execution_count": 29,
      "outputs": [
        {
          "output_type": "stream",
          "name": "stdout",
          "text": [
            "          L         M         N\n",
            "A  0.628133  0.907969  0.503826\n",
            "B -0.319318 -0.848077  0.605965\n",
            "C  0.740122  0.528813 -0.589001\n",
            "D -0.758872 -0.933237  0.955057\n",
            "E  1.978757  2.605967  0.683509\n"
          ]
        }
      ]
    },
    {
      "cell_type": "code",
      "source": [
        "print(df<1)"
      ],
      "metadata": {
        "colab": {
          "base_uri": "https://localhost:8080/"
        },
        "id": "NodYSZvM1QdO",
        "outputId": "9555a37c-81e6-4568-864b-af13bc2dc1a9"
      },
      "execution_count": 30,
      "outputs": [
        {
          "output_type": "stream",
          "name": "stdout",
          "text": [
            "       L      M     N\n",
            "A   True   True  True\n",
            "B   True   True  True\n",
            "C   True   True  True\n",
            "D   True   True  True\n",
            "E  False  False  True\n"
          ]
        }
      ]
    },
    {
      "cell_type": "code",
      "source": [
        "#Assign and create new dataframe\n",
        "#Condition applied on entire dataframe\n",
        "boolean_df = df<1\n",
        "print(boolean_df) # this is a new boolean dataframe\n",
        "print(df[boolean_df]) # this is a new dataframe\n",
        "print(\"*\"*50)\n",
        "print(\"We can combine above two instructions in one step\")\n",
        "print(df[df<1])"
      ],
      "metadata": {
        "colab": {
          "base_uri": "https://localhost:8080/"
        },
        "id": "EU5Cjth11TFV",
        "outputId": "2e0e203a-f5ca-4868-c0ea-add74081baa4"
      },
      "execution_count": 31,
      "outputs": [
        {
          "output_type": "stream",
          "name": "stdout",
          "text": [
            "       L      M     N\n",
            "A   True   True  True\n",
            "B   True   True  True\n",
            "C   True   True  True\n",
            "D   True   True  True\n",
            "E  False  False  True\n",
            "          L         M         N\n",
            "A  0.628133  0.907969  0.503826\n",
            "B -0.319318 -0.848077  0.605965\n",
            "C  0.740122  0.528813 -0.589001\n",
            "D -0.758872 -0.933237  0.955057\n",
            "E       NaN       NaN  0.683509\n",
            "**************************************************\n",
            "We can combine above two instructions in one step\n",
            "          L         M         N\n",
            "A  0.628133  0.907969  0.503826\n",
            "B -0.319318 -0.848077  0.605965\n",
            "C  0.740122  0.528813 -0.589001\n",
            "D -0.758872 -0.933237  0.955057\n",
            "E       NaN       NaN  0.683509\n"
          ]
        }
      ]
    },
    {
      "cell_type": "code",
      "source": [
        "from numpy.random import randn\n",
        "df = pd.DataFrame(randn(5,4), ['A', 'B', 'C', 'D', 'E'], ['K', 'L', 'M', 'N'])\n",
        "print(df)\n",
        "print(df<1)\n",
        "#Assign and create new dataframe\n",
        "#Condition applied on entire dataframe\n",
        "boolean_df = df<1\n",
        "print(boolean_df) # this is a new boolean dataframe\n",
        "print(df[boolean_df]) # this is a new dataframe\n",
        "print(\"*\"*50)\n",
        "print(\"We can combine above two instructions in one step\")\n",
        "print(df[df<1])\n",
        "\n"
      ],
      "metadata": {
        "colab": {
          "base_uri": "https://localhost:8080/"
        },
        "id": "NGv2Rzsm166D",
        "outputId": "b9e85ca5-4a56-413d-b05d-4830e3a05092"
      },
      "execution_count": 32,
      "outputs": [
        {
          "output_type": "stream",
          "name": "stdout",
          "text": [
            "          K         L         M         N\n",
            "A  0.302665  1.693723 -1.706086 -1.159119\n",
            "B -0.134841  0.390528  0.166905  0.184502\n",
            "C  0.807706  0.072960  0.638787  0.329646\n",
            "D -0.497104 -0.754070 -0.943406  0.484752\n",
            "E -0.116773  1.901755  0.238127  1.996652\n",
            "      K      L     M      N\n",
            "A  True  False  True   True\n",
            "B  True   True  True   True\n",
            "C  True   True  True   True\n",
            "D  True   True  True   True\n",
            "E  True  False  True  False\n",
            "      K      L     M      N\n",
            "A  True  False  True   True\n",
            "B  True   True  True   True\n",
            "C  True   True  True   True\n",
            "D  True   True  True   True\n",
            "E  True  False  True  False\n",
            "          K         L         M         N\n",
            "A  0.302665       NaN -1.706086 -1.159119\n",
            "B -0.134841  0.390528  0.166905  0.184502\n",
            "C  0.807706  0.072960  0.638787  0.329646\n",
            "D -0.497104 -0.754070 -0.943406  0.484752\n",
            "E -0.116773       NaN  0.238127       NaN\n",
            "**************************************************\n",
            "We can combine above two instructions in one step\n",
            "          K         L         M         N\n",
            "A  0.302665       NaN -1.706086 -1.159119\n",
            "B -0.134841  0.390528  0.166905  0.184502\n",
            "C  0.807706  0.072960  0.638787  0.329646\n",
            "D -0.497104 -0.754070 -0.943406  0.484752\n",
            "E -0.116773       NaN  0.238127       NaN\n"
          ]
        }
      ]
    },
    {
      "cell_type": "code",
      "source": [
        "#Apply on columns\n",
        "print(df['K'])\n",
        "print(df['K']>0)\n",
        "df[df['K']>0] # Unlike the previous one,\n",
        "# it will return rows where df['K']>0 is True."
      ],
      "metadata": {
        "colab": {
          "base_uri": "https://localhost:8080/",
          "height": 320
        },
        "id": "XxMvDNI62SUm",
        "outputId": "176a0b4a-c860-4aba-f623-67fec9cd0b00"
      },
      "execution_count": 33,
      "outputs": [
        {
          "output_type": "stream",
          "name": "stdout",
          "text": [
            "A    0.302665\n",
            "B   -0.134841\n",
            "C    0.807706\n",
            "D   -0.497104\n",
            "E   -0.116773\n",
            "Name: K, dtype: float64\n",
            "A     True\n",
            "B    False\n",
            "C     True\n",
            "D    False\n",
            "E    False\n",
            "Name: K, dtype: bool\n"
          ]
        },
        {
          "output_type": "execute_result",
          "data": {
            "text/plain": [
              "          K         L         M         N\n",
              "A  0.302665  1.693723 -1.706086 -1.159119\n",
              "C  0.807706  0.072960  0.638787  0.329646"
            ],
            "text/html": [
              "\n",
              "  <div id=\"df-d5755c97-9b23-4566-9f7b-dc3884049b43\" class=\"colab-df-container\">\n",
              "    <div>\n",
              "<style scoped>\n",
              "    .dataframe tbody tr th:only-of-type {\n",
              "        vertical-align: middle;\n",
              "    }\n",
              "\n",
              "    .dataframe tbody tr th {\n",
              "        vertical-align: top;\n",
              "    }\n",
              "\n",
              "    .dataframe thead th {\n",
              "        text-align: right;\n",
              "    }\n",
              "</style>\n",
              "<table border=\"1\" class=\"dataframe\">\n",
              "  <thead>\n",
              "    <tr style=\"text-align: right;\">\n",
              "      <th></th>\n",
              "      <th>K</th>\n",
              "      <th>L</th>\n",
              "      <th>M</th>\n",
              "      <th>N</th>\n",
              "    </tr>\n",
              "  </thead>\n",
              "  <tbody>\n",
              "    <tr>\n",
              "      <th>A</th>\n",
              "      <td>0.302665</td>\n",
              "      <td>1.693723</td>\n",
              "      <td>-1.706086</td>\n",
              "      <td>-1.159119</td>\n",
              "    </tr>\n",
              "    <tr>\n",
              "      <th>C</th>\n",
              "      <td>0.807706</td>\n",
              "      <td>0.072960</td>\n",
              "      <td>0.638787</td>\n",
              "      <td>0.329646</td>\n",
              "    </tr>\n",
              "  </tbody>\n",
              "</table>\n",
              "</div>\n",
              "    <div class=\"colab-df-buttons\">\n",
              "\n",
              "  <div class=\"colab-df-container\">\n",
              "    <button class=\"colab-df-convert\" onclick=\"convertToInteractive('df-d5755c97-9b23-4566-9f7b-dc3884049b43')\"\n",
              "            title=\"Convert this dataframe to an interactive table.\"\n",
              "            style=\"display:none;\">\n",
              "\n",
              "  <svg xmlns=\"http://www.w3.org/2000/svg\" height=\"24px\" viewBox=\"0 -960 960 960\">\n",
              "    <path d=\"M120-120v-720h720v720H120Zm60-500h600v-160H180v160Zm220 220h160v-160H400v160Zm0 220h160v-160H400v160ZM180-400h160v-160H180v160Zm440 0h160v-160H620v160ZM180-180h160v-160H180v160Zm440 0h160v-160H620v160Z\"/>\n",
              "  </svg>\n",
              "    </button>\n",
              "\n",
              "  <style>\n",
              "    .colab-df-container {\n",
              "      display:flex;\n",
              "      gap: 12px;\n",
              "    }\n",
              "\n",
              "    .colab-df-convert {\n",
              "      background-color: #E8F0FE;\n",
              "      border: none;\n",
              "      border-radius: 50%;\n",
              "      cursor: pointer;\n",
              "      display: none;\n",
              "      fill: #1967D2;\n",
              "      height: 32px;\n",
              "      padding: 0 0 0 0;\n",
              "      width: 32px;\n",
              "    }\n",
              "\n",
              "    .colab-df-convert:hover {\n",
              "      background-color: #E2EBFA;\n",
              "      box-shadow: 0px 1px 2px rgba(60, 64, 67, 0.3), 0px 1px 3px 1px rgba(60, 64, 67, 0.15);\n",
              "      fill: #174EA6;\n",
              "    }\n",
              "\n",
              "    .colab-df-buttons div {\n",
              "      margin-bottom: 4px;\n",
              "    }\n",
              "\n",
              "    [theme=dark] .colab-df-convert {\n",
              "      background-color: #3B4455;\n",
              "      fill: #D2E3FC;\n",
              "    }\n",
              "\n",
              "    [theme=dark] .colab-df-convert:hover {\n",
              "      background-color: #434B5C;\n",
              "      box-shadow: 0px 1px 3px 1px rgba(0, 0, 0, 0.15);\n",
              "      filter: drop-shadow(0px 1px 2px rgba(0, 0, 0, 0.3));\n",
              "      fill: #FFFFFF;\n",
              "    }\n",
              "  </style>\n",
              "\n",
              "    <script>\n",
              "      const buttonEl =\n",
              "        document.querySelector('#df-d5755c97-9b23-4566-9f7b-dc3884049b43 button.colab-df-convert');\n",
              "      buttonEl.style.display =\n",
              "        google.colab.kernel.accessAllowed ? 'block' : 'none';\n",
              "\n",
              "      async function convertToInteractive(key) {\n",
              "        const element = document.querySelector('#df-d5755c97-9b23-4566-9f7b-dc3884049b43');\n",
              "        const dataTable =\n",
              "          await google.colab.kernel.invokeFunction('convertToInteractive',\n",
              "                                                    [key], {});\n",
              "        if (!dataTable) return;\n",
              "\n",
              "        const docLinkHtml = 'Like what you see? Visit the ' +\n",
              "          '<a target=\"_blank\" href=https://colab.research.google.com/notebooks/data_table.ipynb>data table notebook</a>'\n",
              "          + ' to learn more about interactive tables.';\n",
              "        element.innerHTML = '';\n",
              "        dataTable['output_type'] = 'display_data';\n",
              "        await google.colab.output.renderOutput(dataTable, element);\n",
              "        const docLink = document.createElement('div');\n",
              "        docLink.innerHTML = docLinkHtml;\n",
              "        element.appendChild(docLink);\n",
              "      }\n",
              "    </script>\n",
              "  </div>\n",
              "\n",
              "\n",
              "    <div id=\"df-1ed190c3-bd26-4b49-98db-fd3de731c984\">\n",
              "      <button class=\"colab-df-quickchart\" onclick=\"quickchart('df-1ed190c3-bd26-4b49-98db-fd3de731c984')\"\n",
              "                title=\"Suggest charts\"\n",
              "                style=\"display:none;\">\n",
              "\n",
              "<svg xmlns=\"http://www.w3.org/2000/svg\" height=\"24px\"viewBox=\"0 0 24 24\"\n",
              "     width=\"24px\">\n",
              "    <g>\n",
              "        <path d=\"M19 3H5c-1.1 0-2 .9-2 2v14c0 1.1.9 2 2 2h14c1.1 0 2-.9 2-2V5c0-1.1-.9-2-2-2zM9 17H7v-7h2v7zm4 0h-2V7h2v10zm4 0h-2v-4h2v4z\"/>\n",
              "    </g>\n",
              "</svg>\n",
              "      </button>\n",
              "\n",
              "<style>\n",
              "  .colab-df-quickchart {\n",
              "      --bg-color: #E8F0FE;\n",
              "      --fill-color: #1967D2;\n",
              "      --hover-bg-color: #E2EBFA;\n",
              "      --hover-fill-color: #174EA6;\n",
              "      --disabled-fill-color: #AAA;\n",
              "      --disabled-bg-color: #DDD;\n",
              "  }\n",
              "\n",
              "  [theme=dark] .colab-df-quickchart {\n",
              "      --bg-color: #3B4455;\n",
              "      --fill-color: #D2E3FC;\n",
              "      --hover-bg-color: #434B5C;\n",
              "      --hover-fill-color: #FFFFFF;\n",
              "      --disabled-bg-color: #3B4455;\n",
              "      --disabled-fill-color: #666;\n",
              "  }\n",
              "\n",
              "  .colab-df-quickchart {\n",
              "    background-color: var(--bg-color);\n",
              "    border: none;\n",
              "    border-radius: 50%;\n",
              "    cursor: pointer;\n",
              "    display: none;\n",
              "    fill: var(--fill-color);\n",
              "    height: 32px;\n",
              "    padding: 0;\n",
              "    width: 32px;\n",
              "  }\n",
              "\n",
              "  .colab-df-quickchart:hover {\n",
              "    background-color: var(--hover-bg-color);\n",
              "    box-shadow: 0 1px 2px rgba(60, 64, 67, 0.3), 0 1px 3px 1px rgba(60, 64, 67, 0.15);\n",
              "    fill: var(--button-hover-fill-color);\n",
              "  }\n",
              "\n",
              "  .colab-df-quickchart-complete:disabled,\n",
              "  .colab-df-quickchart-complete:disabled:hover {\n",
              "    background-color: var(--disabled-bg-color);\n",
              "    fill: var(--disabled-fill-color);\n",
              "    box-shadow: none;\n",
              "  }\n",
              "\n",
              "  .colab-df-spinner {\n",
              "    border: 2px solid var(--fill-color);\n",
              "    border-color: transparent;\n",
              "    border-bottom-color: var(--fill-color);\n",
              "    animation:\n",
              "      spin 1s steps(1) infinite;\n",
              "  }\n",
              "\n",
              "  @keyframes spin {\n",
              "    0% {\n",
              "      border-color: transparent;\n",
              "      border-bottom-color: var(--fill-color);\n",
              "      border-left-color: var(--fill-color);\n",
              "    }\n",
              "    20% {\n",
              "      border-color: transparent;\n",
              "      border-left-color: var(--fill-color);\n",
              "      border-top-color: var(--fill-color);\n",
              "    }\n",
              "    30% {\n",
              "      border-color: transparent;\n",
              "      border-left-color: var(--fill-color);\n",
              "      border-top-color: var(--fill-color);\n",
              "      border-right-color: var(--fill-color);\n",
              "    }\n",
              "    40% {\n",
              "      border-color: transparent;\n",
              "      border-right-color: var(--fill-color);\n",
              "      border-top-color: var(--fill-color);\n",
              "    }\n",
              "    60% {\n",
              "      border-color: transparent;\n",
              "      border-right-color: var(--fill-color);\n",
              "    }\n",
              "    80% {\n",
              "      border-color: transparent;\n",
              "      border-right-color: var(--fill-color);\n",
              "      border-bottom-color: var(--fill-color);\n",
              "    }\n",
              "    90% {\n",
              "      border-color: transparent;\n",
              "      border-bottom-color: var(--fill-color);\n",
              "    }\n",
              "  }\n",
              "</style>\n",
              "\n",
              "      <script>\n",
              "        async function quickchart(key) {\n",
              "          const quickchartButtonEl =\n",
              "            document.querySelector('#' + key + ' button');\n",
              "          quickchartButtonEl.disabled = true;  // To prevent multiple clicks.\n",
              "          quickchartButtonEl.classList.add('colab-df-spinner');\n",
              "          try {\n",
              "            const charts = await google.colab.kernel.invokeFunction(\n",
              "                'suggestCharts', [key], {});\n",
              "          } catch (error) {\n",
              "            console.error('Error during call to suggestCharts:', error);\n",
              "          }\n",
              "          quickchartButtonEl.classList.remove('colab-df-spinner');\n",
              "          quickchartButtonEl.classList.add('colab-df-quickchart-complete');\n",
              "        }\n",
              "        (() => {\n",
              "          let quickchartButtonEl =\n",
              "            document.querySelector('#df-1ed190c3-bd26-4b49-98db-fd3de731c984 button');\n",
              "          quickchartButtonEl.style.display =\n",
              "            google.colab.kernel.accessAllowed ? 'block' : 'none';\n",
              "        })();\n",
              "      </script>\n",
              "    </div>\n",
              "\n",
              "    </div>\n",
              "  </div>\n"
            ],
            "application/vnd.google.colaboratory.intrinsic+json": {
              "type": "dataframe",
              "summary": "{\n  \"name\": \"# it will return rows where df['K']>0 is True\",\n  \"rows\": 2,\n  \"fields\": [\n    {\n      \"column\": \"K\",\n      \"properties\": {\n        \"dtype\": \"number\",\n        \"std\": 0.3571175380506588,\n        \"min\": 0.3026654485851825,\n        \"max\": 0.8077059142577141,\n        \"num_unique_values\": 2,\n        \"samples\": [\n          0.8077059142577141,\n          0.3026654485851825\n        ],\n        \"semantic_type\": \"\",\n        \"description\": \"\"\n      }\n    },\n    {\n      \"column\": \"L\",\n      \"properties\": {\n        \"dtype\": \"number\",\n        \"std\": 1.146052684693042,\n        \"min\": 0.07295967531703869,\n        \"max\": 1.693722925204035,\n        \"num_unique_values\": 2,\n        \"samples\": [\n          0.07295967531703869,\n          1.693722925204035\n        ],\n        \"semantic_type\": \"\",\n        \"description\": \"\"\n      }\n    },\n    {\n      \"column\": \"M\",\n      \"properties\": {\n        \"dtype\": \"number\",\n        \"std\": 1.6580755598890133,\n        \"min\": -1.7060859307350775,\n        \"max\": 0.638787013499328,\n        \"num_unique_values\": 2,\n        \"samples\": [\n          0.638787013499328,\n          -1.7060859307350775\n        ],\n        \"semantic_type\": \"\",\n        \"description\": \"\"\n      }\n    },\n    {\n      \"column\": \"N\",\n      \"properties\": {\n        \"dtype\": \"number\",\n        \"std\": 1.0527163322170083,\n        \"min\": -1.1591194155484297,\n        \"max\": 0.32964629880452445,\n        \"num_unique_values\": 2,\n        \"samples\": [\n          0.32964629880452445,\n          -1.1591194155484297\n        ],\n        \"semantic_type\": \"\",\n        \"description\": \"\"\n      }\n    }\n  ]\n}"
            }
          },
          "metadata": {},
          "execution_count": 33
        }
      ]
    },
    {
      "cell_type": "code",
      "source": [
        "df[boolean_df]\n",
        "print(df[boolean_df])\n",
        "print('*'*50)\n",
        "print('We can combine above two instructions')\n",
        "df[df<1]\n",
        "\n",
        "#Apply on columns\n",
        "print(df['K']>0)\n",
        "df[df['K']>0] # Unlike the previous one,\n",
        "# it will return rows where df['K']>0 is True."
      ],
      "metadata": {
        "colab": {
          "base_uri": "https://localhost:8080/",
          "height": 355
        },
        "id": "Q9c7EHMkzo0e",
        "outputId": "c1a91631-d76d-43fd-c87a-372ecb42e84a"
      },
      "execution_count": 34,
      "outputs": [
        {
          "output_type": "stream",
          "name": "stdout",
          "text": [
            "          K         L         M         N\n",
            "A  0.302665       NaN -1.706086 -1.159119\n",
            "B -0.134841  0.390528  0.166905  0.184502\n",
            "C  0.807706  0.072960  0.638787  0.329646\n",
            "D -0.497104 -0.754070 -0.943406  0.484752\n",
            "E -0.116773       NaN  0.238127       NaN\n",
            "**************************************************\n",
            "We can combine above two instructions\n",
            "A     True\n",
            "B    False\n",
            "C     True\n",
            "D    False\n",
            "E    False\n",
            "Name: K, dtype: bool\n"
          ]
        },
        {
          "output_type": "execute_result",
          "data": {
            "text/plain": [
              "          K         L         M         N\n",
              "A  0.302665  1.693723 -1.706086 -1.159119\n",
              "C  0.807706  0.072960  0.638787  0.329646"
            ],
            "text/html": [
              "\n",
              "  <div id=\"df-c7ef7db3-19db-4c39-8e71-9b2dfe8a0d13\" class=\"colab-df-container\">\n",
              "    <div>\n",
              "<style scoped>\n",
              "    .dataframe tbody tr th:only-of-type {\n",
              "        vertical-align: middle;\n",
              "    }\n",
              "\n",
              "    .dataframe tbody tr th {\n",
              "        vertical-align: top;\n",
              "    }\n",
              "\n",
              "    .dataframe thead th {\n",
              "        text-align: right;\n",
              "    }\n",
              "</style>\n",
              "<table border=\"1\" class=\"dataframe\">\n",
              "  <thead>\n",
              "    <tr style=\"text-align: right;\">\n",
              "      <th></th>\n",
              "      <th>K</th>\n",
              "      <th>L</th>\n",
              "      <th>M</th>\n",
              "      <th>N</th>\n",
              "    </tr>\n",
              "  </thead>\n",
              "  <tbody>\n",
              "    <tr>\n",
              "      <th>A</th>\n",
              "      <td>0.302665</td>\n",
              "      <td>1.693723</td>\n",
              "      <td>-1.706086</td>\n",
              "      <td>-1.159119</td>\n",
              "    </tr>\n",
              "    <tr>\n",
              "      <th>C</th>\n",
              "      <td>0.807706</td>\n",
              "      <td>0.072960</td>\n",
              "      <td>0.638787</td>\n",
              "      <td>0.329646</td>\n",
              "    </tr>\n",
              "  </tbody>\n",
              "</table>\n",
              "</div>\n",
              "    <div class=\"colab-df-buttons\">\n",
              "\n",
              "  <div class=\"colab-df-container\">\n",
              "    <button class=\"colab-df-convert\" onclick=\"convertToInteractive('df-c7ef7db3-19db-4c39-8e71-9b2dfe8a0d13')\"\n",
              "            title=\"Convert this dataframe to an interactive table.\"\n",
              "            style=\"display:none;\">\n",
              "\n",
              "  <svg xmlns=\"http://www.w3.org/2000/svg\" height=\"24px\" viewBox=\"0 -960 960 960\">\n",
              "    <path d=\"M120-120v-720h720v720H120Zm60-500h600v-160H180v160Zm220 220h160v-160H400v160Zm0 220h160v-160H400v160ZM180-400h160v-160H180v160Zm440 0h160v-160H620v160ZM180-180h160v-160H180v160Zm440 0h160v-160H620v160Z\"/>\n",
              "  </svg>\n",
              "    </button>\n",
              "\n",
              "  <style>\n",
              "    .colab-df-container {\n",
              "      display:flex;\n",
              "      gap: 12px;\n",
              "    }\n",
              "\n",
              "    .colab-df-convert {\n",
              "      background-color: #E8F0FE;\n",
              "      border: none;\n",
              "      border-radius: 50%;\n",
              "      cursor: pointer;\n",
              "      display: none;\n",
              "      fill: #1967D2;\n",
              "      height: 32px;\n",
              "      padding: 0 0 0 0;\n",
              "      width: 32px;\n",
              "    }\n",
              "\n",
              "    .colab-df-convert:hover {\n",
              "      background-color: #E2EBFA;\n",
              "      box-shadow: 0px 1px 2px rgba(60, 64, 67, 0.3), 0px 1px 3px 1px rgba(60, 64, 67, 0.15);\n",
              "      fill: #174EA6;\n",
              "    }\n",
              "\n",
              "    .colab-df-buttons div {\n",
              "      margin-bottom: 4px;\n",
              "    }\n",
              "\n",
              "    [theme=dark] .colab-df-convert {\n",
              "      background-color: #3B4455;\n",
              "      fill: #D2E3FC;\n",
              "    }\n",
              "\n",
              "    [theme=dark] .colab-df-convert:hover {\n",
              "      background-color: #434B5C;\n",
              "      box-shadow: 0px 1px 3px 1px rgba(0, 0, 0, 0.15);\n",
              "      filter: drop-shadow(0px 1px 2px rgba(0, 0, 0, 0.3));\n",
              "      fill: #FFFFFF;\n",
              "    }\n",
              "  </style>\n",
              "\n",
              "    <script>\n",
              "      const buttonEl =\n",
              "        document.querySelector('#df-c7ef7db3-19db-4c39-8e71-9b2dfe8a0d13 button.colab-df-convert');\n",
              "      buttonEl.style.display =\n",
              "        google.colab.kernel.accessAllowed ? 'block' : 'none';\n",
              "\n",
              "      async function convertToInteractive(key) {\n",
              "        const element = document.querySelector('#df-c7ef7db3-19db-4c39-8e71-9b2dfe8a0d13');\n",
              "        const dataTable =\n",
              "          await google.colab.kernel.invokeFunction('convertToInteractive',\n",
              "                                                    [key], {});\n",
              "        if (!dataTable) return;\n",
              "\n",
              "        const docLinkHtml = 'Like what you see? Visit the ' +\n",
              "          '<a target=\"_blank\" href=https://colab.research.google.com/notebooks/data_table.ipynb>data table notebook</a>'\n",
              "          + ' to learn more about interactive tables.';\n",
              "        element.innerHTML = '';\n",
              "        dataTable['output_type'] = 'display_data';\n",
              "        await google.colab.output.renderOutput(dataTable, element);\n",
              "        const docLink = document.createElement('div');\n",
              "        docLink.innerHTML = docLinkHtml;\n",
              "        element.appendChild(docLink);\n",
              "      }\n",
              "    </script>\n",
              "  </div>\n",
              "\n",
              "\n",
              "    <div id=\"df-251f8cdd-7649-4435-a219-296147bea1b0\">\n",
              "      <button class=\"colab-df-quickchart\" onclick=\"quickchart('df-251f8cdd-7649-4435-a219-296147bea1b0')\"\n",
              "                title=\"Suggest charts\"\n",
              "                style=\"display:none;\">\n",
              "\n",
              "<svg xmlns=\"http://www.w3.org/2000/svg\" height=\"24px\"viewBox=\"0 0 24 24\"\n",
              "     width=\"24px\">\n",
              "    <g>\n",
              "        <path d=\"M19 3H5c-1.1 0-2 .9-2 2v14c0 1.1.9 2 2 2h14c1.1 0 2-.9 2-2V5c0-1.1-.9-2-2-2zM9 17H7v-7h2v7zm4 0h-2V7h2v10zm4 0h-2v-4h2v4z\"/>\n",
              "    </g>\n",
              "</svg>\n",
              "      </button>\n",
              "\n",
              "<style>\n",
              "  .colab-df-quickchart {\n",
              "      --bg-color: #E8F0FE;\n",
              "      --fill-color: #1967D2;\n",
              "      --hover-bg-color: #E2EBFA;\n",
              "      --hover-fill-color: #174EA6;\n",
              "      --disabled-fill-color: #AAA;\n",
              "      --disabled-bg-color: #DDD;\n",
              "  }\n",
              "\n",
              "  [theme=dark] .colab-df-quickchart {\n",
              "      --bg-color: #3B4455;\n",
              "      --fill-color: #D2E3FC;\n",
              "      --hover-bg-color: #434B5C;\n",
              "      --hover-fill-color: #FFFFFF;\n",
              "      --disabled-bg-color: #3B4455;\n",
              "      --disabled-fill-color: #666;\n",
              "  }\n",
              "\n",
              "  .colab-df-quickchart {\n",
              "    background-color: var(--bg-color);\n",
              "    border: none;\n",
              "    border-radius: 50%;\n",
              "    cursor: pointer;\n",
              "    display: none;\n",
              "    fill: var(--fill-color);\n",
              "    height: 32px;\n",
              "    padding: 0;\n",
              "    width: 32px;\n",
              "  }\n",
              "\n",
              "  .colab-df-quickchart:hover {\n",
              "    background-color: var(--hover-bg-color);\n",
              "    box-shadow: 0 1px 2px rgba(60, 64, 67, 0.3), 0 1px 3px 1px rgba(60, 64, 67, 0.15);\n",
              "    fill: var(--button-hover-fill-color);\n",
              "  }\n",
              "\n",
              "  .colab-df-quickchart-complete:disabled,\n",
              "  .colab-df-quickchart-complete:disabled:hover {\n",
              "    background-color: var(--disabled-bg-color);\n",
              "    fill: var(--disabled-fill-color);\n",
              "    box-shadow: none;\n",
              "  }\n",
              "\n",
              "  .colab-df-spinner {\n",
              "    border: 2px solid var(--fill-color);\n",
              "    border-color: transparent;\n",
              "    border-bottom-color: var(--fill-color);\n",
              "    animation:\n",
              "      spin 1s steps(1) infinite;\n",
              "  }\n",
              "\n",
              "  @keyframes spin {\n",
              "    0% {\n",
              "      border-color: transparent;\n",
              "      border-bottom-color: var(--fill-color);\n",
              "      border-left-color: var(--fill-color);\n",
              "    }\n",
              "    20% {\n",
              "      border-color: transparent;\n",
              "      border-left-color: var(--fill-color);\n",
              "      border-top-color: var(--fill-color);\n",
              "    }\n",
              "    30% {\n",
              "      border-color: transparent;\n",
              "      border-left-color: var(--fill-color);\n",
              "      border-top-color: var(--fill-color);\n",
              "      border-right-color: var(--fill-color);\n",
              "    }\n",
              "    40% {\n",
              "      border-color: transparent;\n",
              "      border-right-color: var(--fill-color);\n",
              "      border-top-color: var(--fill-color);\n",
              "    }\n",
              "    60% {\n",
              "      border-color: transparent;\n",
              "      border-right-color: var(--fill-color);\n",
              "    }\n",
              "    80% {\n",
              "      border-color: transparent;\n",
              "      border-right-color: var(--fill-color);\n",
              "      border-bottom-color: var(--fill-color);\n",
              "    }\n",
              "    90% {\n",
              "      border-color: transparent;\n",
              "      border-bottom-color: var(--fill-color);\n",
              "    }\n",
              "  }\n",
              "</style>\n",
              "\n",
              "      <script>\n",
              "        async function quickchart(key) {\n",
              "          const quickchartButtonEl =\n",
              "            document.querySelector('#' + key + ' button');\n",
              "          quickchartButtonEl.disabled = true;  // To prevent multiple clicks.\n",
              "          quickchartButtonEl.classList.add('colab-df-spinner');\n",
              "          try {\n",
              "            const charts = await google.colab.kernel.invokeFunction(\n",
              "                'suggestCharts', [key], {});\n",
              "          } catch (error) {\n",
              "            console.error('Error during call to suggestCharts:', error);\n",
              "          }\n",
              "          quickchartButtonEl.classList.remove('colab-df-spinner');\n",
              "          quickchartButtonEl.classList.add('colab-df-quickchart-complete');\n",
              "        }\n",
              "        (() => {\n",
              "          let quickchartButtonEl =\n",
              "            document.querySelector('#df-251f8cdd-7649-4435-a219-296147bea1b0 button');\n",
              "          quickchartButtonEl.style.display =\n",
              "            google.colab.kernel.accessAllowed ? 'block' : 'none';\n",
              "        })();\n",
              "      </script>\n",
              "    </div>\n",
              "\n",
              "    </div>\n",
              "  </div>\n"
            ],
            "application/vnd.google.colaboratory.intrinsic+json": {
              "type": "dataframe",
              "summary": "{\n  \"name\": \"# it will return rows where df['K']>0 is True\",\n  \"rows\": 2,\n  \"fields\": [\n    {\n      \"column\": \"K\",\n      \"properties\": {\n        \"dtype\": \"number\",\n        \"std\": 0.3571175380506588,\n        \"min\": 0.3026654485851825,\n        \"max\": 0.8077059142577141,\n        \"num_unique_values\": 2,\n        \"samples\": [\n          0.8077059142577141,\n          0.3026654485851825\n        ],\n        \"semantic_type\": \"\",\n        \"description\": \"\"\n      }\n    },\n    {\n      \"column\": \"L\",\n      \"properties\": {\n        \"dtype\": \"number\",\n        \"std\": 1.146052684693042,\n        \"min\": 0.07295967531703869,\n        \"max\": 1.693722925204035,\n        \"num_unique_values\": 2,\n        \"samples\": [\n          0.07295967531703869,\n          1.693722925204035\n        ],\n        \"semantic_type\": \"\",\n        \"description\": \"\"\n      }\n    },\n    {\n      \"column\": \"M\",\n      \"properties\": {\n        \"dtype\": \"number\",\n        \"std\": 1.6580755598890133,\n        \"min\": -1.7060859307350775,\n        \"max\": 0.638787013499328,\n        \"num_unique_values\": 2,\n        \"samples\": [\n          0.638787013499328,\n          -1.7060859307350775\n        ],\n        \"semantic_type\": \"\",\n        \"description\": \"\"\n      }\n    },\n    {\n      \"column\": \"N\",\n      \"properties\": {\n        \"dtype\": \"number\",\n        \"std\": 1.0527163322170083,\n        \"min\": -1.1591194155484297,\n        \"max\": 0.32964629880452445,\n        \"num_unique_values\": 2,\n        \"samples\": [\n          0.32964629880452445,\n          -1.1591194155484297\n        ],\n        \"semantic_type\": \"\",\n        \"description\": \"\"\n      }\n    }\n  ]\n}"
            }
          },
          "metadata": {},
          "execution_count": 34
        }
      ]
    },
    {
      "cell_type": "code",
      "source": [
        "#return rows where column value k\n",
        "#happens to be less than 0 and returns value of column M\n",
        "print(df[df['K']>0]['M'])\n",
        "print(df[df['K']>0][['M','N']])"
      ],
      "metadata": {
        "colab": {
          "base_uri": "https://localhost:8080/"
        },
        "id": "Qr8jQo_83qXv",
        "outputId": "7b2b33aa-2e27-4e54-a0a0-a6bf5f927133"
      },
      "execution_count": 35,
      "outputs": [
        {
          "output_type": "stream",
          "name": "stdout",
          "text": [
            "A   -1.706086\n",
            "C    0.638787\n",
            "Name: M, dtype: float64\n",
            "          M         N\n",
            "A -1.706086 -1.159119\n",
            "C  0.638787  0.329646\n"
          ]
        }
      ]
    },
    {
      "cell_type": "code",
      "source": [
        "#Multiple Conditions\n",
        "df[(df['K']>0) & (df['M']>0)] #ambiguous and operation\n",
        "#element-wise logical operators will do the needful.\n",
        "#True and True\n",
        "#True and false\n",
        "df['K']>0\n",
        "df[(df['K']>0) & (df['M']>0)]"
      ],
      "metadata": {
        "colab": {
          "base_uri": "https://localhost:8080/",
          "height": 80
        },
        "id": "AHi5iGx02oY_",
        "outputId": "2661fd78-4579-45c5-8108-5616b5420125"
      },
      "execution_count": 36,
      "outputs": [
        {
          "output_type": "execute_result",
          "data": {
            "text/plain": [
              "          K        L         M         N\n",
              "C  0.807706  0.07296  0.638787  0.329646"
            ],
            "text/html": [
              "\n",
              "  <div id=\"df-dd637747-6284-436a-8270-fe92c2b127a7\" class=\"colab-df-container\">\n",
              "    <div>\n",
              "<style scoped>\n",
              "    .dataframe tbody tr th:only-of-type {\n",
              "        vertical-align: middle;\n",
              "    }\n",
              "\n",
              "    .dataframe tbody tr th {\n",
              "        vertical-align: top;\n",
              "    }\n",
              "\n",
              "    .dataframe thead th {\n",
              "        text-align: right;\n",
              "    }\n",
              "</style>\n",
              "<table border=\"1\" class=\"dataframe\">\n",
              "  <thead>\n",
              "    <tr style=\"text-align: right;\">\n",
              "      <th></th>\n",
              "      <th>K</th>\n",
              "      <th>L</th>\n",
              "      <th>M</th>\n",
              "      <th>N</th>\n",
              "    </tr>\n",
              "  </thead>\n",
              "  <tbody>\n",
              "    <tr>\n",
              "      <th>C</th>\n",
              "      <td>0.807706</td>\n",
              "      <td>0.07296</td>\n",
              "      <td>0.638787</td>\n",
              "      <td>0.329646</td>\n",
              "    </tr>\n",
              "  </tbody>\n",
              "</table>\n",
              "</div>\n",
              "    <div class=\"colab-df-buttons\">\n",
              "\n",
              "  <div class=\"colab-df-container\">\n",
              "    <button class=\"colab-df-convert\" onclick=\"convertToInteractive('df-dd637747-6284-436a-8270-fe92c2b127a7')\"\n",
              "            title=\"Convert this dataframe to an interactive table.\"\n",
              "            style=\"display:none;\">\n",
              "\n",
              "  <svg xmlns=\"http://www.w3.org/2000/svg\" height=\"24px\" viewBox=\"0 -960 960 960\">\n",
              "    <path d=\"M120-120v-720h720v720H120Zm60-500h600v-160H180v160Zm220 220h160v-160H400v160Zm0 220h160v-160H400v160ZM180-400h160v-160H180v160Zm440 0h160v-160H620v160ZM180-180h160v-160H180v160Zm440 0h160v-160H620v160Z\"/>\n",
              "  </svg>\n",
              "    </button>\n",
              "\n",
              "  <style>\n",
              "    .colab-df-container {\n",
              "      display:flex;\n",
              "      gap: 12px;\n",
              "    }\n",
              "\n",
              "    .colab-df-convert {\n",
              "      background-color: #E8F0FE;\n",
              "      border: none;\n",
              "      border-radius: 50%;\n",
              "      cursor: pointer;\n",
              "      display: none;\n",
              "      fill: #1967D2;\n",
              "      height: 32px;\n",
              "      padding: 0 0 0 0;\n",
              "      width: 32px;\n",
              "    }\n",
              "\n",
              "    .colab-df-convert:hover {\n",
              "      background-color: #E2EBFA;\n",
              "      box-shadow: 0px 1px 2px rgba(60, 64, 67, 0.3), 0px 1px 3px 1px rgba(60, 64, 67, 0.15);\n",
              "      fill: #174EA6;\n",
              "    }\n",
              "\n",
              "    .colab-df-buttons div {\n",
              "      margin-bottom: 4px;\n",
              "    }\n",
              "\n",
              "    [theme=dark] .colab-df-convert {\n",
              "      background-color: #3B4455;\n",
              "      fill: #D2E3FC;\n",
              "    }\n",
              "\n",
              "    [theme=dark] .colab-df-convert:hover {\n",
              "      background-color: #434B5C;\n",
              "      box-shadow: 0px 1px 3px 1px rgba(0, 0, 0, 0.15);\n",
              "      filter: drop-shadow(0px 1px 2px rgba(0, 0, 0, 0.3));\n",
              "      fill: #FFFFFF;\n",
              "    }\n",
              "  </style>\n",
              "\n",
              "    <script>\n",
              "      const buttonEl =\n",
              "        document.querySelector('#df-dd637747-6284-436a-8270-fe92c2b127a7 button.colab-df-convert');\n",
              "      buttonEl.style.display =\n",
              "        google.colab.kernel.accessAllowed ? 'block' : 'none';\n",
              "\n",
              "      async function convertToInteractive(key) {\n",
              "        const element = document.querySelector('#df-dd637747-6284-436a-8270-fe92c2b127a7');\n",
              "        const dataTable =\n",
              "          await google.colab.kernel.invokeFunction('convertToInteractive',\n",
              "                                                    [key], {});\n",
              "        if (!dataTable) return;\n",
              "\n",
              "        const docLinkHtml = 'Like what you see? Visit the ' +\n",
              "          '<a target=\"_blank\" href=https://colab.research.google.com/notebooks/data_table.ipynb>data table notebook</a>'\n",
              "          + ' to learn more about interactive tables.';\n",
              "        element.innerHTML = '';\n",
              "        dataTable['output_type'] = 'display_data';\n",
              "        await google.colab.output.renderOutput(dataTable, element);\n",
              "        const docLink = document.createElement('div');\n",
              "        docLink.innerHTML = docLinkHtml;\n",
              "        element.appendChild(docLink);\n",
              "      }\n",
              "    </script>\n",
              "  </div>\n",
              "\n",
              "\n",
              "    </div>\n",
              "  </div>\n"
            ],
            "application/vnd.google.colaboratory.intrinsic+json": {
              "type": "dataframe",
              "summary": "{\n  \"name\": \"df[(df['K']>0) & (df['M']>0)]\",\n  \"rows\": 1,\n  \"fields\": [\n    {\n      \"column\": \"K\",\n      \"properties\": {\n        \"dtype\": \"number\",\n        \"std\": null,\n        \"min\": 0.8077059142577141,\n        \"max\": 0.8077059142577141,\n        \"num_unique_values\": 1,\n        \"samples\": [\n          0.8077059142577141\n        ],\n        \"semantic_type\": \"\",\n        \"description\": \"\"\n      }\n    },\n    {\n      \"column\": \"L\",\n      \"properties\": {\n        \"dtype\": \"number\",\n        \"std\": null,\n        \"min\": 0.07295967531703869,\n        \"max\": 0.07295967531703869,\n        \"num_unique_values\": 1,\n        \"samples\": [\n          0.07295967531703869\n        ],\n        \"semantic_type\": \"\",\n        \"description\": \"\"\n      }\n    },\n    {\n      \"column\": \"M\",\n      \"properties\": {\n        \"dtype\": \"number\",\n        \"std\": null,\n        \"min\": 0.638787013499328,\n        \"max\": 0.638787013499328,\n        \"num_unique_values\": 1,\n        \"samples\": [\n          0.638787013499328\n        ],\n        \"semantic_type\": \"\",\n        \"description\": \"\"\n      }\n    },\n    {\n      \"column\": \"N\",\n      \"properties\": {\n        \"dtype\": \"number\",\n        \"std\": null,\n        \"min\": 0.32964629880452445,\n        \"max\": 0.32964629880452445,\n        \"num_unique_values\": 1,\n        \"samples\": [\n          0.32964629880452445\n        ],\n        \"semantic_type\": \"\",\n        \"description\": \"\"\n      }\n    }\n  ]\n}"
            }
          },
          "metadata": {},
          "execution_count": 36
        }
      ]
    },
    {
      "cell_type": "code",
      "source": [
        "df\n",
        "df.reset_index() #inplace param is false\n",
        "                 # by default here\n",
        "df"
      ],
      "metadata": {
        "colab": {
          "base_uri": "https://localhost:8080/",
          "height": 206
        },
        "id": "_Sjtp_We3NBC",
        "outputId": "edad6306-b0fa-4eba-96d4-aab69674fe55"
      },
      "execution_count": 37,
      "outputs": [
        {
          "output_type": "execute_result",
          "data": {
            "text/plain": [
              "          K         L         M         N\n",
              "A  0.302665  1.693723 -1.706086 -1.159119\n",
              "B -0.134841  0.390528  0.166905  0.184502\n",
              "C  0.807706  0.072960  0.638787  0.329646\n",
              "D -0.497104 -0.754070 -0.943406  0.484752\n",
              "E -0.116773  1.901755  0.238127  1.996652"
            ],
            "text/html": [
              "\n",
              "  <div id=\"df-6904c536-4ad8-4001-9e39-f27e1816deb9\" class=\"colab-df-container\">\n",
              "    <div>\n",
              "<style scoped>\n",
              "    .dataframe tbody tr th:only-of-type {\n",
              "        vertical-align: middle;\n",
              "    }\n",
              "\n",
              "    .dataframe tbody tr th {\n",
              "        vertical-align: top;\n",
              "    }\n",
              "\n",
              "    .dataframe thead th {\n",
              "        text-align: right;\n",
              "    }\n",
              "</style>\n",
              "<table border=\"1\" class=\"dataframe\">\n",
              "  <thead>\n",
              "    <tr style=\"text-align: right;\">\n",
              "      <th></th>\n",
              "      <th>K</th>\n",
              "      <th>L</th>\n",
              "      <th>M</th>\n",
              "      <th>N</th>\n",
              "    </tr>\n",
              "  </thead>\n",
              "  <tbody>\n",
              "    <tr>\n",
              "      <th>A</th>\n",
              "      <td>0.302665</td>\n",
              "      <td>1.693723</td>\n",
              "      <td>-1.706086</td>\n",
              "      <td>-1.159119</td>\n",
              "    </tr>\n",
              "    <tr>\n",
              "      <th>B</th>\n",
              "      <td>-0.134841</td>\n",
              "      <td>0.390528</td>\n",
              "      <td>0.166905</td>\n",
              "      <td>0.184502</td>\n",
              "    </tr>\n",
              "    <tr>\n",
              "      <th>C</th>\n",
              "      <td>0.807706</td>\n",
              "      <td>0.072960</td>\n",
              "      <td>0.638787</td>\n",
              "      <td>0.329646</td>\n",
              "    </tr>\n",
              "    <tr>\n",
              "      <th>D</th>\n",
              "      <td>-0.497104</td>\n",
              "      <td>-0.754070</td>\n",
              "      <td>-0.943406</td>\n",
              "      <td>0.484752</td>\n",
              "    </tr>\n",
              "    <tr>\n",
              "      <th>E</th>\n",
              "      <td>-0.116773</td>\n",
              "      <td>1.901755</td>\n",
              "      <td>0.238127</td>\n",
              "      <td>1.996652</td>\n",
              "    </tr>\n",
              "  </tbody>\n",
              "</table>\n",
              "</div>\n",
              "    <div class=\"colab-df-buttons\">\n",
              "\n",
              "  <div class=\"colab-df-container\">\n",
              "    <button class=\"colab-df-convert\" onclick=\"convertToInteractive('df-6904c536-4ad8-4001-9e39-f27e1816deb9')\"\n",
              "            title=\"Convert this dataframe to an interactive table.\"\n",
              "            style=\"display:none;\">\n",
              "\n",
              "  <svg xmlns=\"http://www.w3.org/2000/svg\" height=\"24px\" viewBox=\"0 -960 960 960\">\n",
              "    <path d=\"M120-120v-720h720v720H120Zm60-500h600v-160H180v160Zm220 220h160v-160H400v160Zm0 220h160v-160H400v160ZM180-400h160v-160H180v160Zm440 0h160v-160H620v160ZM180-180h160v-160H180v160Zm440 0h160v-160H620v160Z\"/>\n",
              "  </svg>\n",
              "    </button>\n",
              "\n",
              "  <style>\n",
              "    .colab-df-container {\n",
              "      display:flex;\n",
              "      gap: 12px;\n",
              "    }\n",
              "\n",
              "    .colab-df-convert {\n",
              "      background-color: #E8F0FE;\n",
              "      border: none;\n",
              "      border-radius: 50%;\n",
              "      cursor: pointer;\n",
              "      display: none;\n",
              "      fill: #1967D2;\n",
              "      height: 32px;\n",
              "      padding: 0 0 0 0;\n",
              "      width: 32px;\n",
              "    }\n",
              "\n",
              "    .colab-df-convert:hover {\n",
              "      background-color: #E2EBFA;\n",
              "      box-shadow: 0px 1px 2px rgba(60, 64, 67, 0.3), 0px 1px 3px 1px rgba(60, 64, 67, 0.15);\n",
              "      fill: #174EA6;\n",
              "    }\n",
              "\n",
              "    .colab-df-buttons div {\n",
              "      margin-bottom: 4px;\n",
              "    }\n",
              "\n",
              "    [theme=dark] .colab-df-convert {\n",
              "      background-color: #3B4455;\n",
              "      fill: #D2E3FC;\n",
              "    }\n",
              "\n",
              "    [theme=dark] .colab-df-convert:hover {\n",
              "      background-color: #434B5C;\n",
              "      box-shadow: 0px 1px 3px 1px rgba(0, 0, 0, 0.15);\n",
              "      filter: drop-shadow(0px 1px 2px rgba(0, 0, 0, 0.3));\n",
              "      fill: #FFFFFF;\n",
              "    }\n",
              "  </style>\n",
              "\n",
              "    <script>\n",
              "      const buttonEl =\n",
              "        document.querySelector('#df-6904c536-4ad8-4001-9e39-f27e1816deb9 button.colab-df-convert');\n",
              "      buttonEl.style.display =\n",
              "        google.colab.kernel.accessAllowed ? 'block' : 'none';\n",
              "\n",
              "      async function convertToInteractive(key) {\n",
              "        const element = document.querySelector('#df-6904c536-4ad8-4001-9e39-f27e1816deb9');\n",
              "        const dataTable =\n",
              "          await google.colab.kernel.invokeFunction('convertToInteractive',\n",
              "                                                    [key], {});\n",
              "        if (!dataTable) return;\n",
              "\n",
              "        const docLinkHtml = 'Like what you see? Visit the ' +\n",
              "          '<a target=\"_blank\" href=https://colab.research.google.com/notebooks/data_table.ipynb>data table notebook</a>'\n",
              "          + ' to learn more about interactive tables.';\n",
              "        element.innerHTML = '';\n",
              "        dataTable['output_type'] = 'display_data';\n",
              "        await google.colab.output.renderOutput(dataTable, element);\n",
              "        const docLink = document.createElement('div');\n",
              "        docLink.innerHTML = docLinkHtml;\n",
              "        element.appendChild(docLink);\n",
              "      }\n",
              "    </script>\n",
              "  </div>\n",
              "\n",
              "\n",
              "    <div id=\"df-8acb768f-f9e3-49a8-aecd-a1a1d94c75b8\">\n",
              "      <button class=\"colab-df-quickchart\" onclick=\"quickchart('df-8acb768f-f9e3-49a8-aecd-a1a1d94c75b8')\"\n",
              "                title=\"Suggest charts\"\n",
              "                style=\"display:none;\">\n",
              "\n",
              "<svg xmlns=\"http://www.w3.org/2000/svg\" height=\"24px\"viewBox=\"0 0 24 24\"\n",
              "     width=\"24px\">\n",
              "    <g>\n",
              "        <path d=\"M19 3H5c-1.1 0-2 .9-2 2v14c0 1.1.9 2 2 2h14c1.1 0 2-.9 2-2V5c0-1.1-.9-2-2-2zM9 17H7v-7h2v7zm4 0h-2V7h2v10zm4 0h-2v-4h2v4z\"/>\n",
              "    </g>\n",
              "</svg>\n",
              "      </button>\n",
              "\n",
              "<style>\n",
              "  .colab-df-quickchart {\n",
              "      --bg-color: #E8F0FE;\n",
              "      --fill-color: #1967D2;\n",
              "      --hover-bg-color: #E2EBFA;\n",
              "      --hover-fill-color: #174EA6;\n",
              "      --disabled-fill-color: #AAA;\n",
              "      --disabled-bg-color: #DDD;\n",
              "  }\n",
              "\n",
              "  [theme=dark] .colab-df-quickchart {\n",
              "      --bg-color: #3B4455;\n",
              "      --fill-color: #D2E3FC;\n",
              "      --hover-bg-color: #434B5C;\n",
              "      --hover-fill-color: #FFFFFF;\n",
              "      --disabled-bg-color: #3B4455;\n",
              "      --disabled-fill-color: #666;\n",
              "  }\n",
              "\n",
              "  .colab-df-quickchart {\n",
              "    background-color: var(--bg-color);\n",
              "    border: none;\n",
              "    border-radius: 50%;\n",
              "    cursor: pointer;\n",
              "    display: none;\n",
              "    fill: var(--fill-color);\n",
              "    height: 32px;\n",
              "    padding: 0;\n",
              "    width: 32px;\n",
              "  }\n",
              "\n",
              "  .colab-df-quickchart:hover {\n",
              "    background-color: var(--hover-bg-color);\n",
              "    box-shadow: 0 1px 2px rgba(60, 64, 67, 0.3), 0 1px 3px 1px rgba(60, 64, 67, 0.15);\n",
              "    fill: var(--button-hover-fill-color);\n",
              "  }\n",
              "\n",
              "  .colab-df-quickchart-complete:disabled,\n",
              "  .colab-df-quickchart-complete:disabled:hover {\n",
              "    background-color: var(--disabled-bg-color);\n",
              "    fill: var(--disabled-fill-color);\n",
              "    box-shadow: none;\n",
              "  }\n",
              "\n",
              "  .colab-df-spinner {\n",
              "    border: 2px solid var(--fill-color);\n",
              "    border-color: transparent;\n",
              "    border-bottom-color: var(--fill-color);\n",
              "    animation:\n",
              "      spin 1s steps(1) infinite;\n",
              "  }\n",
              "\n",
              "  @keyframes spin {\n",
              "    0% {\n",
              "      border-color: transparent;\n",
              "      border-bottom-color: var(--fill-color);\n",
              "      border-left-color: var(--fill-color);\n",
              "    }\n",
              "    20% {\n",
              "      border-color: transparent;\n",
              "      border-left-color: var(--fill-color);\n",
              "      border-top-color: var(--fill-color);\n",
              "    }\n",
              "    30% {\n",
              "      border-color: transparent;\n",
              "      border-left-color: var(--fill-color);\n",
              "      border-top-color: var(--fill-color);\n",
              "      border-right-color: var(--fill-color);\n",
              "    }\n",
              "    40% {\n",
              "      border-color: transparent;\n",
              "      border-right-color: var(--fill-color);\n",
              "      border-top-color: var(--fill-color);\n",
              "    }\n",
              "    60% {\n",
              "      border-color: transparent;\n",
              "      border-right-color: var(--fill-color);\n",
              "    }\n",
              "    80% {\n",
              "      border-color: transparent;\n",
              "      border-right-color: var(--fill-color);\n",
              "      border-bottom-color: var(--fill-color);\n",
              "    }\n",
              "    90% {\n",
              "      border-color: transparent;\n",
              "      border-bottom-color: var(--fill-color);\n",
              "    }\n",
              "  }\n",
              "</style>\n",
              "\n",
              "      <script>\n",
              "        async function quickchart(key) {\n",
              "          const quickchartButtonEl =\n",
              "            document.querySelector('#' + key + ' button');\n",
              "          quickchartButtonEl.disabled = true;  // To prevent multiple clicks.\n",
              "          quickchartButtonEl.classList.add('colab-df-spinner');\n",
              "          try {\n",
              "            const charts = await google.colab.kernel.invokeFunction(\n",
              "                'suggestCharts', [key], {});\n",
              "          } catch (error) {\n",
              "            console.error('Error during call to suggestCharts:', error);\n",
              "          }\n",
              "          quickchartButtonEl.classList.remove('colab-df-spinner');\n",
              "          quickchartButtonEl.classList.add('colab-df-quickchart-complete');\n",
              "        }\n",
              "        (() => {\n",
              "          let quickchartButtonEl =\n",
              "            document.querySelector('#df-8acb768f-f9e3-49a8-aecd-a1a1d94c75b8 button');\n",
              "          quickchartButtonEl.style.display =\n",
              "            google.colab.kernel.accessAllowed ? 'block' : 'none';\n",
              "        })();\n",
              "      </script>\n",
              "    </div>\n",
              "\n",
              "  <div id=\"id_1e05c6f3-8ab3-4116-9c19-663eafd36232\">\n",
              "    <style>\n",
              "      .colab-df-generate {\n",
              "        background-color: #E8F0FE;\n",
              "        border: none;\n",
              "        border-radius: 50%;\n",
              "        cursor: pointer;\n",
              "        display: none;\n",
              "        fill: #1967D2;\n",
              "        height: 32px;\n",
              "        padding: 0 0 0 0;\n",
              "        width: 32px;\n",
              "      }\n",
              "\n",
              "      .colab-df-generate:hover {\n",
              "        background-color: #E2EBFA;\n",
              "        box-shadow: 0px 1px 2px rgba(60, 64, 67, 0.3), 0px 1px 3px 1px rgba(60, 64, 67, 0.15);\n",
              "        fill: #174EA6;\n",
              "      }\n",
              "\n",
              "      [theme=dark] .colab-df-generate {\n",
              "        background-color: #3B4455;\n",
              "        fill: #D2E3FC;\n",
              "      }\n",
              "\n",
              "      [theme=dark] .colab-df-generate:hover {\n",
              "        background-color: #434B5C;\n",
              "        box-shadow: 0px 1px 3px 1px rgba(0, 0, 0, 0.15);\n",
              "        filter: drop-shadow(0px 1px 2px rgba(0, 0, 0, 0.3));\n",
              "        fill: #FFFFFF;\n",
              "      }\n",
              "    </style>\n",
              "    <button class=\"colab-df-generate\" onclick=\"generateWithVariable('df')\"\n",
              "            title=\"Generate code using this dataframe.\"\n",
              "            style=\"display:none;\">\n",
              "\n",
              "  <svg xmlns=\"http://www.w3.org/2000/svg\" height=\"24px\"viewBox=\"0 0 24 24\"\n",
              "       width=\"24px\">\n",
              "    <path d=\"M7,19H8.4L18.45,9,17,7.55,7,17.6ZM5,21V16.75L18.45,3.32a2,2,0,0,1,2.83,0l1.4,1.43a1.91,1.91,0,0,1,.58,1.4,1.91,1.91,0,0,1-.58,1.4L9.25,21ZM18.45,9,17,7.55Zm-12,3A5.31,5.31,0,0,0,4.9,8.1,5.31,5.31,0,0,0,1,6.5,5.31,5.31,0,0,0,4.9,4.9,5.31,5.31,0,0,0,6.5,1,5.31,5.31,0,0,0,8.1,4.9,5.31,5.31,0,0,0,12,6.5,5.46,5.46,0,0,0,6.5,12Z\"/>\n",
              "  </svg>\n",
              "    </button>\n",
              "    <script>\n",
              "      (() => {\n",
              "      const buttonEl =\n",
              "        document.querySelector('#id_1e05c6f3-8ab3-4116-9c19-663eafd36232 button.colab-df-generate');\n",
              "      buttonEl.style.display =\n",
              "        google.colab.kernel.accessAllowed ? 'block' : 'none';\n",
              "\n",
              "      buttonEl.onclick = () => {\n",
              "        google.colab.notebook.generateWithVariable('df');\n",
              "      }\n",
              "      })();\n",
              "    </script>\n",
              "  </div>\n",
              "\n",
              "    </div>\n",
              "  </div>\n"
            ],
            "application/vnd.google.colaboratory.intrinsic+json": {
              "type": "dataframe",
              "variable_name": "df",
              "summary": "{\n  \"name\": \"df\",\n  \"rows\": 5,\n  \"fields\": [\n    {\n      \"column\": \"K\",\n      \"properties\": {\n        \"dtype\": \"number\",\n        \"std\": 0.4991911037724714,\n        \"min\": -0.49710402288933153,\n        \"max\": 0.8077059142577141,\n        \"num_unique_values\": 5,\n        \"samples\": [\n          -0.13484072060601238,\n          -0.11677331646707445,\n          0.8077059142577141\n        ],\n        \"semantic_type\": \"\",\n        \"description\": \"\"\n      }\n    },\n    {\n      \"column\": \"L\",\n      \"properties\": {\n        \"dtype\": \"number\",\n        \"std\": 1.1210885301942672,\n        \"min\": -0.7540697010400628,\n        \"max\": 1.9017547952605123,\n        \"num_unique_values\": 5,\n        \"samples\": [\n          0.39052784273374097,\n          1.9017547952605123,\n          0.07295967531703869\n        ],\n        \"semantic_type\": \"\",\n        \"description\": \"\"\n      }\n    },\n    {\n      \"column\": \"M\",\n      \"properties\": {\n        \"dtype\": \"number\",\n        \"std\": 0.9718175853488566,\n        \"min\": -1.7060859307350775,\n        \"max\": 0.638787013499328,\n        \"num_unique_values\": 5,\n        \"samples\": [\n          0.16690463609281317,\n          0.23812695876901832,\n          0.638787013499328\n        ],\n        \"semantic_type\": \"\",\n        \"description\": \"\"\n      }\n    },\n    {\n      \"column\": \"N\",\n      \"properties\": {\n        \"dtype\": \"number\",\n        \"std\": 1.1217589928305651,\n        \"min\": -1.1591194155484297,\n        \"max\": 1.9966522853695665,\n        \"num_unique_values\": 5,\n        \"samples\": [\n          0.18450185928224264,\n          1.9966522853695665,\n          0.32964629880452445\n        ],\n        \"semantic_type\": \"\",\n        \"description\": \"\"\n      }\n    }\n  ]\n}"
            }
          },
          "metadata": {},
          "execution_count": 37
        }
      ]
    },
    {
      "cell_type": "code",
      "source": [
        "df\n",
        "df.reset_index() #inplace param is false\n",
        "                 # by default here\n",
        "df"
      ],
      "metadata": {
        "colab": {
          "base_uri": "https://localhost:8080/",
          "height": 206
        },
        "id": "SecuchyX3kLZ",
        "outputId": "a71af01c-0cb9-4928-8a41-13429eba0e97"
      },
      "execution_count": 38,
      "outputs": [
        {
          "output_type": "execute_result",
          "data": {
            "text/plain": [
              "          K         L         M         N\n",
              "A  0.302665  1.693723 -1.706086 -1.159119\n",
              "B -0.134841  0.390528  0.166905  0.184502\n",
              "C  0.807706  0.072960  0.638787  0.329646\n",
              "D -0.497104 -0.754070 -0.943406  0.484752\n",
              "E -0.116773  1.901755  0.238127  1.996652"
            ],
            "text/html": [
              "\n",
              "  <div id=\"df-fd758c55-aae1-4c12-b524-64b6ba9969cf\" class=\"colab-df-container\">\n",
              "    <div>\n",
              "<style scoped>\n",
              "    .dataframe tbody tr th:only-of-type {\n",
              "        vertical-align: middle;\n",
              "    }\n",
              "\n",
              "    .dataframe tbody tr th {\n",
              "        vertical-align: top;\n",
              "    }\n",
              "\n",
              "    .dataframe thead th {\n",
              "        text-align: right;\n",
              "    }\n",
              "</style>\n",
              "<table border=\"1\" class=\"dataframe\">\n",
              "  <thead>\n",
              "    <tr style=\"text-align: right;\">\n",
              "      <th></th>\n",
              "      <th>K</th>\n",
              "      <th>L</th>\n",
              "      <th>M</th>\n",
              "      <th>N</th>\n",
              "    </tr>\n",
              "  </thead>\n",
              "  <tbody>\n",
              "    <tr>\n",
              "      <th>A</th>\n",
              "      <td>0.302665</td>\n",
              "      <td>1.693723</td>\n",
              "      <td>-1.706086</td>\n",
              "      <td>-1.159119</td>\n",
              "    </tr>\n",
              "    <tr>\n",
              "      <th>B</th>\n",
              "      <td>-0.134841</td>\n",
              "      <td>0.390528</td>\n",
              "      <td>0.166905</td>\n",
              "      <td>0.184502</td>\n",
              "    </tr>\n",
              "    <tr>\n",
              "      <th>C</th>\n",
              "      <td>0.807706</td>\n",
              "      <td>0.072960</td>\n",
              "      <td>0.638787</td>\n",
              "      <td>0.329646</td>\n",
              "    </tr>\n",
              "    <tr>\n",
              "      <th>D</th>\n",
              "      <td>-0.497104</td>\n",
              "      <td>-0.754070</td>\n",
              "      <td>-0.943406</td>\n",
              "      <td>0.484752</td>\n",
              "    </tr>\n",
              "    <tr>\n",
              "      <th>E</th>\n",
              "      <td>-0.116773</td>\n",
              "      <td>1.901755</td>\n",
              "      <td>0.238127</td>\n",
              "      <td>1.996652</td>\n",
              "    </tr>\n",
              "  </tbody>\n",
              "</table>\n",
              "</div>\n",
              "    <div class=\"colab-df-buttons\">\n",
              "\n",
              "  <div class=\"colab-df-container\">\n",
              "    <button class=\"colab-df-convert\" onclick=\"convertToInteractive('df-fd758c55-aae1-4c12-b524-64b6ba9969cf')\"\n",
              "            title=\"Convert this dataframe to an interactive table.\"\n",
              "            style=\"display:none;\">\n",
              "\n",
              "  <svg xmlns=\"http://www.w3.org/2000/svg\" height=\"24px\" viewBox=\"0 -960 960 960\">\n",
              "    <path d=\"M120-120v-720h720v720H120Zm60-500h600v-160H180v160Zm220 220h160v-160H400v160Zm0 220h160v-160H400v160ZM180-400h160v-160H180v160Zm440 0h160v-160H620v160ZM180-180h160v-160H180v160Zm440 0h160v-160H620v160Z\"/>\n",
              "  </svg>\n",
              "    </button>\n",
              "\n",
              "  <style>\n",
              "    .colab-df-container {\n",
              "      display:flex;\n",
              "      gap: 12px;\n",
              "    }\n",
              "\n",
              "    .colab-df-convert {\n",
              "      background-color: #E8F0FE;\n",
              "      border: none;\n",
              "      border-radius: 50%;\n",
              "      cursor: pointer;\n",
              "      display: none;\n",
              "      fill: #1967D2;\n",
              "      height: 32px;\n",
              "      padding: 0 0 0 0;\n",
              "      width: 32px;\n",
              "    }\n",
              "\n",
              "    .colab-df-convert:hover {\n",
              "      background-color: #E2EBFA;\n",
              "      box-shadow: 0px 1px 2px rgba(60, 64, 67, 0.3), 0px 1px 3px 1px rgba(60, 64, 67, 0.15);\n",
              "      fill: #174EA6;\n",
              "    }\n",
              "\n",
              "    .colab-df-buttons div {\n",
              "      margin-bottom: 4px;\n",
              "    }\n",
              "\n",
              "    [theme=dark] .colab-df-convert {\n",
              "      background-color: #3B4455;\n",
              "      fill: #D2E3FC;\n",
              "    }\n",
              "\n",
              "    [theme=dark] .colab-df-convert:hover {\n",
              "      background-color: #434B5C;\n",
              "      box-shadow: 0px 1px 3px 1px rgba(0, 0, 0, 0.15);\n",
              "      filter: drop-shadow(0px 1px 2px rgba(0, 0, 0, 0.3));\n",
              "      fill: #FFFFFF;\n",
              "    }\n",
              "  </style>\n",
              "\n",
              "    <script>\n",
              "      const buttonEl =\n",
              "        document.querySelector('#df-fd758c55-aae1-4c12-b524-64b6ba9969cf button.colab-df-convert');\n",
              "      buttonEl.style.display =\n",
              "        google.colab.kernel.accessAllowed ? 'block' : 'none';\n",
              "\n",
              "      async function convertToInteractive(key) {\n",
              "        const element = document.querySelector('#df-fd758c55-aae1-4c12-b524-64b6ba9969cf');\n",
              "        const dataTable =\n",
              "          await google.colab.kernel.invokeFunction('convertToInteractive',\n",
              "                                                    [key], {});\n",
              "        if (!dataTable) return;\n",
              "\n",
              "        const docLinkHtml = 'Like what you see? Visit the ' +\n",
              "          '<a target=\"_blank\" href=https://colab.research.google.com/notebooks/data_table.ipynb>data table notebook</a>'\n",
              "          + ' to learn more about interactive tables.';\n",
              "        element.innerHTML = '';\n",
              "        dataTable['output_type'] = 'display_data';\n",
              "        await google.colab.output.renderOutput(dataTable, element);\n",
              "        const docLink = document.createElement('div');\n",
              "        docLink.innerHTML = docLinkHtml;\n",
              "        element.appendChild(docLink);\n",
              "      }\n",
              "    </script>\n",
              "  </div>\n",
              "\n",
              "\n",
              "    <div id=\"df-472c73de-2530-4a8a-b62b-b3be2aaca034\">\n",
              "      <button class=\"colab-df-quickchart\" onclick=\"quickchart('df-472c73de-2530-4a8a-b62b-b3be2aaca034')\"\n",
              "                title=\"Suggest charts\"\n",
              "                style=\"display:none;\">\n",
              "\n",
              "<svg xmlns=\"http://www.w3.org/2000/svg\" height=\"24px\"viewBox=\"0 0 24 24\"\n",
              "     width=\"24px\">\n",
              "    <g>\n",
              "        <path d=\"M19 3H5c-1.1 0-2 .9-2 2v14c0 1.1.9 2 2 2h14c1.1 0 2-.9 2-2V5c0-1.1-.9-2-2-2zM9 17H7v-7h2v7zm4 0h-2V7h2v10zm4 0h-2v-4h2v4z\"/>\n",
              "    </g>\n",
              "</svg>\n",
              "      </button>\n",
              "\n",
              "<style>\n",
              "  .colab-df-quickchart {\n",
              "      --bg-color: #E8F0FE;\n",
              "      --fill-color: #1967D2;\n",
              "      --hover-bg-color: #E2EBFA;\n",
              "      --hover-fill-color: #174EA6;\n",
              "      --disabled-fill-color: #AAA;\n",
              "      --disabled-bg-color: #DDD;\n",
              "  }\n",
              "\n",
              "  [theme=dark] .colab-df-quickchart {\n",
              "      --bg-color: #3B4455;\n",
              "      --fill-color: #D2E3FC;\n",
              "      --hover-bg-color: #434B5C;\n",
              "      --hover-fill-color: #FFFFFF;\n",
              "      --disabled-bg-color: #3B4455;\n",
              "      --disabled-fill-color: #666;\n",
              "  }\n",
              "\n",
              "  .colab-df-quickchart {\n",
              "    background-color: var(--bg-color);\n",
              "    border: none;\n",
              "    border-radius: 50%;\n",
              "    cursor: pointer;\n",
              "    display: none;\n",
              "    fill: var(--fill-color);\n",
              "    height: 32px;\n",
              "    padding: 0;\n",
              "    width: 32px;\n",
              "  }\n",
              "\n",
              "  .colab-df-quickchart:hover {\n",
              "    background-color: var(--hover-bg-color);\n",
              "    box-shadow: 0 1px 2px rgba(60, 64, 67, 0.3), 0 1px 3px 1px rgba(60, 64, 67, 0.15);\n",
              "    fill: var(--button-hover-fill-color);\n",
              "  }\n",
              "\n",
              "  .colab-df-quickchart-complete:disabled,\n",
              "  .colab-df-quickchart-complete:disabled:hover {\n",
              "    background-color: var(--disabled-bg-color);\n",
              "    fill: var(--disabled-fill-color);\n",
              "    box-shadow: none;\n",
              "  }\n",
              "\n",
              "  .colab-df-spinner {\n",
              "    border: 2px solid var(--fill-color);\n",
              "    border-color: transparent;\n",
              "    border-bottom-color: var(--fill-color);\n",
              "    animation:\n",
              "      spin 1s steps(1) infinite;\n",
              "  }\n",
              "\n",
              "  @keyframes spin {\n",
              "    0% {\n",
              "      border-color: transparent;\n",
              "      border-bottom-color: var(--fill-color);\n",
              "      border-left-color: var(--fill-color);\n",
              "    }\n",
              "    20% {\n",
              "      border-color: transparent;\n",
              "      border-left-color: var(--fill-color);\n",
              "      border-top-color: var(--fill-color);\n",
              "    }\n",
              "    30% {\n",
              "      border-color: transparent;\n",
              "      border-left-color: var(--fill-color);\n",
              "      border-top-color: var(--fill-color);\n",
              "      border-right-color: var(--fill-color);\n",
              "    }\n",
              "    40% {\n",
              "      border-color: transparent;\n",
              "      border-right-color: var(--fill-color);\n",
              "      border-top-color: var(--fill-color);\n",
              "    }\n",
              "    60% {\n",
              "      border-color: transparent;\n",
              "      border-right-color: var(--fill-color);\n",
              "    }\n",
              "    80% {\n",
              "      border-color: transparent;\n",
              "      border-right-color: var(--fill-color);\n",
              "      border-bottom-color: var(--fill-color);\n",
              "    }\n",
              "    90% {\n",
              "      border-color: transparent;\n",
              "      border-bottom-color: var(--fill-color);\n",
              "    }\n",
              "  }\n",
              "</style>\n",
              "\n",
              "      <script>\n",
              "        async function quickchart(key) {\n",
              "          const quickchartButtonEl =\n",
              "            document.querySelector('#' + key + ' button');\n",
              "          quickchartButtonEl.disabled = true;  // To prevent multiple clicks.\n",
              "          quickchartButtonEl.classList.add('colab-df-spinner');\n",
              "          try {\n",
              "            const charts = await google.colab.kernel.invokeFunction(\n",
              "                'suggestCharts', [key], {});\n",
              "          } catch (error) {\n",
              "            console.error('Error during call to suggestCharts:', error);\n",
              "          }\n",
              "          quickchartButtonEl.classList.remove('colab-df-spinner');\n",
              "          quickchartButtonEl.classList.add('colab-df-quickchart-complete');\n",
              "        }\n",
              "        (() => {\n",
              "          let quickchartButtonEl =\n",
              "            document.querySelector('#df-472c73de-2530-4a8a-b62b-b3be2aaca034 button');\n",
              "          quickchartButtonEl.style.display =\n",
              "            google.colab.kernel.accessAllowed ? 'block' : 'none';\n",
              "        })();\n",
              "      </script>\n",
              "    </div>\n",
              "\n",
              "  <div id=\"id_97a88840-b731-4a2d-8dea-db5599c37f9d\">\n",
              "    <style>\n",
              "      .colab-df-generate {\n",
              "        background-color: #E8F0FE;\n",
              "        border: none;\n",
              "        border-radius: 50%;\n",
              "        cursor: pointer;\n",
              "        display: none;\n",
              "        fill: #1967D2;\n",
              "        height: 32px;\n",
              "        padding: 0 0 0 0;\n",
              "        width: 32px;\n",
              "      }\n",
              "\n",
              "      .colab-df-generate:hover {\n",
              "        background-color: #E2EBFA;\n",
              "        box-shadow: 0px 1px 2px rgba(60, 64, 67, 0.3), 0px 1px 3px 1px rgba(60, 64, 67, 0.15);\n",
              "        fill: #174EA6;\n",
              "      }\n",
              "\n",
              "      [theme=dark] .colab-df-generate {\n",
              "        background-color: #3B4455;\n",
              "        fill: #D2E3FC;\n",
              "      }\n",
              "\n",
              "      [theme=dark] .colab-df-generate:hover {\n",
              "        background-color: #434B5C;\n",
              "        box-shadow: 0px 1px 3px 1px rgba(0, 0, 0, 0.15);\n",
              "        filter: drop-shadow(0px 1px 2px rgba(0, 0, 0, 0.3));\n",
              "        fill: #FFFFFF;\n",
              "      }\n",
              "    </style>\n",
              "    <button class=\"colab-df-generate\" onclick=\"generateWithVariable('df')\"\n",
              "            title=\"Generate code using this dataframe.\"\n",
              "            style=\"display:none;\">\n",
              "\n",
              "  <svg xmlns=\"http://www.w3.org/2000/svg\" height=\"24px\"viewBox=\"0 0 24 24\"\n",
              "       width=\"24px\">\n",
              "    <path d=\"M7,19H8.4L18.45,9,17,7.55,7,17.6ZM5,21V16.75L18.45,3.32a2,2,0,0,1,2.83,0l1.4,1.43a1.91,1.91,0,0,1,.58,1.4,1.91,1.91,0,0,1-.58,1.4L9.25,21ZM18.45,9,17,7.55Zm-12,3A5.31,5.31,0,0,0,4.9,8.1,5.31,5.31,0,0,0,1,6.5,5.31,5.31,0,0,0,4.9,4.9,5.31,5.31,0,0,0,6.5,1,5.31,5.31,0,0,0,8.1,4.9,5.31,5.31,0,0,0,12,6.5,5.46,5.46,0,0,0,6.5,12Z\"/>\n",
              "  </svg>\n",
              "    </button>\n",
              "    <script>\n",
              "      (() => {\n",
              "      const buttonEl =\n",
              "        document.querySelector('#id_97a88840-b731-4a2d-8dea-db5599c37f9d button.colab-df-generate');\n",
              "      buttonEl.style.display =\n",
              "        google.colab.kernel.accessAllowed ? 'block' : 'none';\n",
              "\n",
              "      buttonEl.onclick = () => {\n",
              "        google.colab.notebook.generateWithVariable('df');\n",
              "      }\n",
              "      })();\n",
              "    </script>\n",
              "  </div>\n",
              "\n",
              "    </div>\n",
              "  </div>\n"
            ],
            "application/vnd.google.colaboratory.intrinsic+json": {
              "type": "dataframe",
              "variable_name": "df",
              "summary": "{\n  \"name\": \"df\",\n  \"rows\": 5,\n  \"fields\": [\n    {\n      \"column\": \"K\",\n      \"properties\": {\n        \"dtype\": \"number\",\n        \"std\": 0.4991911037724714,\n        \"min\": -0.49710402288933153,\n        \"max\": 0.8077059142577141,\n        \"num_unique_values\": 5,\n        \"samples\": [\n          -0.13484072060601238,\n          -0.11677331646707445,\n          0.8077059142577141\n        ],\n        \"semantic_type\": \"\",\n        \"description\": \"\"\n      }\n    },\n    {\n      \"column\": \"L\",\n      \"properties\": {\n        \"dtype\": \"number\",\n        \"std\": 1.1210885301942672,\n        \"min\": -0.7540697010400628,\n        \"max\": 1.9017547952605123,\n        \"num_unique_values\": 5,\n        \"samples\": [\n          0.39052784273374097,\n          1.9017547952605123,\n          0.07295967531703869\n        ],\n        \"semantic_type\": \"\",\n        \"description\": \"\"\n      }\n    },\n    {\n      \"column\": \"M\",\n      \"properties\": {\n        \"dtype\": \"number\",\n        \"std\": 0.9718175853488566,\n        \"min\": -1.7060859307350775,\n        \"max\": 0.638787013499328,\n        \"num_unique_values\": 5,\n        \"samples\": [\n          0.16690463609281317,\n          0.23812695876901832,\n          0.638787013499328\n        ],\n        \"semantic_type\": \"\",\n        \"description\": \"\"\n      }\n    },\n    {\n      \"column\": \"N\",\n      \"properties\": {\n        \"dtype\": \"number\",\n        \"std\": 1.1217589928305651,\n        \"min\": -1.1591194155484297,\n        \"max\": 1.9966522853695665,\n        \"num_unique_values\": 5,\n        \"samples\": [\n          0.18450185928224264,\n          1.9966522853695665,\n          0.32964629880452445\n        ],\n        \"semantic_type\": \"\",\n        \"description\": \"\"\n      }\n    }\n  ]\n}"
            }
          },
          "metadata": {},
          "execution_count": 38
        }
      ]
    },
    {
      "cell_type": "code",
      "source": [
        "#Selecting Rows\n",
        "print(df)\n",
        "print('*'*50)\n",
        "df.loc['A']\n",
        "\n",
        "df.iloc[0]\n",
        "df.loc['A', 'K']\n",
        "print(df.shape)\n",
        "print(df.loc[['A','B'],['K','L']])\n",
        "#Test by providing tuple of tuple\n",
        "#Read about loc, iloc, ix, nunique in detail"
      ],
      "metadata": {
        "colab": {
          "base_uri": "https://localhost:8080/"
        },
        "id": "YFfbVjAJ4vCs",
        "outputId": "7a8f9e95-5300-4aa0-bac2-12b1ed238345"
      },
      "execution_count": 39,
      "outputs": [
        {
          "output_type": "stream",
          "name": "stdout",
          "text": [
            "          K         L         M         N\n",
            "A  0.302665  1.693723 -1.706086 -1.159119\n",
            "B -0.134841  0.390528  0.166905  0.184502\n",
            "C  0.807706  0.072960  0.638787  0.329646\n",
            "D -0.497104 -0.754070 -0.943406  0.484752\n",
            "E -0.116773  1.901755  0.238127  1.996652\n",
            "**************************************************\n",
            "(5, 4)\n",
            "          K         L\n",
            "A  0.302665  1.693723\n",
            "B -0.134841  0.390528\n"
          ]
        }
      ]
    },
    {
      "cell_type": "code",
      "source": [
        "import pandas\n",
        "df=pandas.read_csv(\"video26_dataset_1.tsv\", sep='\\t')\n",
        "print(df)\n",
        "print(type(df))\n",
        "print(df.shape)\n",
        "print(\"df.columns: \",df.columns)\n",
        "print(\"type(df.columns): \",type(df.columns))\n",
        "print(\"df.dtypes: \", df.dtypes)\n",
        "print(\"type(df.dtypes): \", type(df.dtypes))\n",
        "print(\"*\"*50)\n",
        "print(\"df.info(): \",df.info())\n",
        "country= df[\"country\"]\n",
        "print('country: ',country)\n",
        "print('type(country)',type(country))\n",
        "countries= set(country)  #set i.e. unique country\n",
        "print(countries)\n",
        "print(\"*\"*50)\n",
        "for c in countries: print(c)\n",
        "a=df[[\"country\",\"year\"]]\n",
        "print(a.head())\n",
        "print(a.tail())\n",
        "print(\"*\"*50)\n",
        "print('a.iloc[4] : ',a.iloc[4])   # iloc record at location/index 4\n",
        "print(\"type(a.iloc[4]): \", type(a.iloc[4]))    #Single index for one row [1] returns a Pandas Series.\n",
        "print(\"df.iloc[4]: \",df.iloc[4])\n",
        "print(\"*\"*50)\n",
        "print(df.iloc[ :, 0])\n",
        "# this will return all rows and first columns of data frame, list of indexes [[row, column]] returns a Pandas DataFrame.\n",
        "print('type(df.iloc[ :, 0]): ',type(df.iloc[ :, 0]))\n",
        "print(\"*\"*50)\n",
        "print(df.iloc[range(0,10,2)])\n",
        "print(\"*\"*50)\n",
        "#pandas for SQL\n",
        "print(df.groupby(\"country\")[\"pop\"].sum())"
      ],
      "metadata": {
        "id": "PkayBsslBCks",
        "colab": {
          "base_uri": "https://localhost:8080/"
        },
        "outputId": "0daf2cc8-2a08-4361-fd2c-2ad325ba61a9"
      },
      "execution_count": 41,
      "outputs": [
        {
          "output_type": "stream",
          "name": "stdout",
          "text": [
            "          country continent  year  lifeExp       pop   gdpPercap\n",
            "0     Afghanistan      Asia  1952   28.801   8425333  779.445314\n",
            "1     Afghanistan      Asia  1957   30.332   9240934  820.853030\n",
            "2     Afghanistan      Asia  1962   31.997  10267083  853.100710\n",
            "3     Afghanistan      Asia  1967   34.020  11537966  836.197138\n",
            "4     Afghanistan      Asia  1972   36.088  13079460  739.981106\n",
            "...           ...       ...   ...      ...       ...         ...\n",
            "1699     Zimbabwe    Africa  1987   62.351   9216418  706.157306\n",
            "1700     Zimbabwe    Africa  1992   60.377  10704340  693.420786\n",
            "1701     Zimbabwe    Africa  1997   46.809  11404948  792.449960\n",
            "1702     Zimbabwe    Africa  2002   39.989  11926563  672.038623\n",
            "1703     Zimbabwe    Africa  2007   43.487  12311143  469.709298\n",
            "\n",
            "[1704 rows x 6 columns]\n",
            "<class 'pandas.core.frame.DataFrame'>\n",
            "(1704, 6)\n",
            "df.columns:  Index(['country', 'continent', 'year', 'lifeExp', 'pop', 'gdpPercap'], dtype='object')\n",
            "type(df.columns):  <class 'pandas.core.indexes.base.Index'>\n",
            "df.dtypes:  country       object\n",
            "continent     object\n",
            "year           int64\n",
            "lifeExp      float64\n",
            "pop            int64\n",
            "gdpPercap    float64\n",
            "dtype: object\n",
            "type(df.dtypes):  <class 'pandas.core.series.Series'>\n",
            "**************************************************\n",
            "<class 'pandas.core.frame.DataFrame'>\n",
            "RangeIndex: 1704 entries, 0 to 1703\n",
            "Data columns (total 6 columns):\n",
            " #   Column     Non-Null Count  Dtype  \n",
            "---  ------     --------------  -----  \n",
            " 0   country    1704 non-null   object \n",
            " 1   continent  1704 non-null   object \n",
            " 2   year       1704 non-null   int64  \n",
            " 3   lifeExp    1704 non-null   float64\n",
            " 4   pop        1704 non-null   int64  \n",
            " 5   gdpPercap  1704 non-null   float64\n",
            "dtypes: float64(2), int64(2), object(2)\n",
            "memory usage: 80.0+ KB\n",
            "df.info():  None\n",
            "country:  0       Afghanistan\n",
            "1       Afghanistan\n",
            "2       Afghanistan\n",
            "3       Afghanistan\n",
            "4       Afghanistan\n",
            "           ...     \n",
            "1699       Zimbabwe\n",
            "1700       Zimbabwe\n",
            "1701       Zimbabwe\n",
            "1702       Zimbabwe\n",
            "1703       Zimbabwe\n",
            "Name: country, Length: 1704, dtype: object\n",
            "type(country) <class 'pandas.core.series.Series'>\n",
            "{'Central African Republic', 'Mozambique', 'Lesotho', 'Switzerland', 'Uganda', 'Denmark', 'Gabon', 'United Kingdom', 'Sweden', 'Niger', 'Equatorial Guinea', 'Singapore', 'Canada', 'Egypt', 'Lebanon', 'Congo, Dem. Rep.', 'Mauritania', 'Malawi', 'Peru', \"Cote d'Ivoire\", 'Honduras', 'Mongolia', 'Myanmar', 'Bolivia', 'Brazil', 'Iran', 'Afghanistan', 'Eritrea', 'Uruguay', 'Liberia', 'Ecuador', 'Iraq', 'Slovak Republic', 'Panama', 'Hungary', 'Czech Republic', 'Reunion', 'France', 'Ireland', 'Vietnam', 'Swaziland', 'Benin', 'Senegal', 'Nepal', 'Norway', 'Pakistan', 'India', 'Ethiopia', 'Angola', 'Austria', 'Rwanda', 'Jordan', 'Nigeria', 'Bahrain', 'Paraguay', 'Burkina Faso', 'Cambodia', 'Comoros', 'Ghana', 'Romania', 'Kuwait', 'Thailand', 'Tanzania', 'Netherlands', 'Saudi Arabia', 'Montenegro', 'Argentina', 'Namibia', 'Congo, Rep.', 'Oman', 'Djibouti', 'Greece', 'Sao Tome and Principe', 'Finland', 'Sierra Leone', 'Poland', 'Guatemala', 'West Bank and Gaza', 'Korea, Dem. Rep.', 'Australia', 'Spain', 'Hong Kong, China', 'Taiwan', 'Italy', 'Syria', 'Cuba', 'Jamaica', 'Mexico', 'Trinidad and Tobago', 'Bosnia and Herzegovina', 'Libya', 'Israel', 'Bulgaria', 'Madagascar', 'Turkey', 'United States', 'Venezuela', 'Zimbabwe', 'Korea, Rep.', 'Cameroon', 'Yemen, Rep.', 'Japan', 'Philippines', 'Somalia', 'Costa Rica', 'Chad', 'Guinea-Bissau', 'Sri Lanka', 'Zambia', 'Mauritius', 'Belgium', 'Gambia', 'Iceland', 'Nicaragua', 'Guinea', 'Botswana', 'Portugal', 'Haiti', 'China', 'Colombia', 'South Africa', 'Kenya', 'Dominican Republic', 'Algeria', 'Serbia', 'Togo', 'Puerto Rico', 'Sudan', 'New Zealand', 'Chile', 'Bangladesh', 'El Salvador', 'Malaysia', 'Slovenia', 'Albania', 'Tunisia', 'Croatia', 'Germany', 'Indonesia', 'Mali', 'Morocco', 'Burundi'}\n",
            "**************************************************\n",
            "Central African Republic\n",
            "Mozambique\n",
            "Lesotho\n",
            "Switzerland\n",
            "Uganda\n",
            "Denmark\n",
            "Gabon\n",
            "United Kingdom\n",
            "Sweden\n",
            "Niger\n",
            "Equatorial Guinea\n",
            "Singapore\n",
            "Canada\n",
            "Egypt\n",
            "Lebanon\n",
            "Congo, Dem. Rep.\n",
            "Mauritania\n",
            "Malawi\n",
            "Peru\n",
            "Cote d'Ivoire\n",
            "Honduras\n",
            "Mongolia\n",
            "Myanmar\n",
            "Bolivia\n",
            "Brazil\n",
            "Iran\n",
            "Afghanistan\n",
            "Eritrea\n",
            "Uruguay\n",
            "Liberia\n",
            "Ecuador\n",
            "Iraq\n",
            "Slovak Republic\n",
            "Panama\n",
            "Hungary\n",
            "Czech Republic\n",
            "Reunion\n",
            "France\n",
            "Ireland\n",
            "Vietnam\n",
            "Swaziland\n",
            "Benin\n",
            "Senegal\n",
            "Nepal\n",
            "Norway\n",
            "Pakistan\n",
            "India\n",
            "Ethiopia\n",
            "Angola\n",
            "Austria\n",
            "Rwanda\n",
            "Jordan\n",
            "Nigeria\n",
            "Bahrain\n",
            "Paraguay\n",
            "Burkina Faso\n",
            "Cambodia\n",
            "Comoros\n",
            "Ghana\n",
            "Romania\n",
            "Kuwait\n",
            "Thailand\n",
            "Tanzania\n",
            "Netherlands\n",
            "Saudi Arabia\n",
            "Montenegro\n",
            "Argentina\n",
            "Namibia\n",
            "Congo, Rep.\n",
            "Oman\n",
            "Djibouti\n",
            "Greece\n",
            "Sao Tome and Principe\n",
            "Finland\n",
            "Sierra Leone\n",
            "Poland\n",
            "Guatemala\n",
            "West Bank and Gaza\n",
            "Korea, Dem. Rep.\n",
            "Australia\n",
            "Spain\n",
            "Hong Kong, China\n",
            "Taiwan\n",
            "Italy\n",
            "Syria\n",
            "Cuba\n",
            "Jamaica\n",
            "Mexico\n",
            "Trinidad and Tobago\n",
            "Bosnia and Herzegovina\n",
            "Libya\n",
            "Israel\n",
            "Bulgaria\n",
            "Madagascar\n",
            "Turkey\n",
            "United States\n",
            "Venezuela\n",
            "Zimbabwe\n",
            "Korea, Rep.\n",
            "Cameroon\n",
            "Yemen, Rep.\n",
            "Japan\n",
            "Philippines\n",
            "Somalia\n",
            "Costa Rica\n",
            "Chad\n",
            "Guinea-Bissau\n",
            "Sri Lanka\n",
            "Zambia\n",
            "Mauritius\n",
            "Belgium\n",
            "Gambia\n",
            "Iceland\n",
            "Nicaragua\n",
            "Guinea\n",
            "Botswana\n",
            "Portugal\n",
            "Haiti\n",
            "China\n",
            "Colombia\n",
            "South Africa\n",
            "Kenya\n",
            "Dominican Republic\n",
            "Algeria\n",
            "Serbia\n",
            "Togo\n",
            "Puerto Rico\n",
            "Sudan\n",
            "New Zealand\n",
            "Chile\n",
            "Bangladesh\n",
            "El Salvador\n",
            "Malaysia\n",
            "Slovenia\n",
            "Albania\n",
            "Tunisia\n",
            "Croatia\n",
            "Germany\n",
            "Indonesia\n",
            "Mali\n",
            "Morocco\n",
            "Burundi\n",
            "       country  year\n",
            "0  Afghanistan  1952\n",
            "1  Afghanistan  1957\n",
            "2  Afghanistan  1962\n",
            "3  Afghanistan  1967\n",
            "4  Afghanistan  1972\n",
            "       country  year\n",
            "1699  Zimbabwe  1987\n",
            "1700  Zimbabwe  1992\n",
            "1701  Zimbabwe  1997\n",
            "1702  Zimbabwe  2002\n",
            "1703  Zimbabwe  2007\n",
            "**************************************************\n",
            "a.iloc[4] :  country    Afghanistan\n",
            "year              1972\n",
            "Name: 4, dtype: object\n",
            "type(a.iloc[4]):  <class 'pandas.core.series.Series'>\n",
            "df.iloc[4]:  country      Afghanistan\n",
            "continent           Asia\n",
            "year                1972\n",
            "lifeExp           36.088\n",
            "pop             13079460\n",
            "gdpPercap     739.981106\n",
            "Name: 4, dtype: object\n",
            "**************************************************\n",
            "0       Afghanistan\n",
            "1       Afghanistan\n",
            "2       Afghanistan\n",
            "3       Afghanistan\n",
            "4       Afghanistan\n",
            "           ...     \n",
            "1699       Zimbabwe\n",
            "1700       Zimbabwe\n",
            "1701       Zimbabwe\n",
            "1702       Zimbabwe\n",
            "1703       Zimbabwe\n",
            "Name: country, Length: 1704, dtype: object\n",
            "type(df.iloc[ :, 0]):  <class 'pandas.core.series.Series'>\n",
            "**************************************************\n",
            "       country continent  year  lifeExp       pop   gdpPercap\n",
            "0  Afghanistan      Asia  1952   28.801   8425333  779.445314\n",
            "2  Afghanistan      Asia  1962   31.997  10267083  853.100710\n",
            "4  Afghanistan      Asia  1972   36.088  13079460  739.981106\n",
            "6  Afghanistan      Asia  1982   39.854  12881816  978.011439\n",
            "8  Afghanistan      Asia  1992   41.674  16317921  649.341395\n",
            "**************************************************\n",
            "country\n",
            "Afghanistan           189884585\n",
            "Albania                30962990\n",
            "Algeria               238504874\n",
            "Angola                 87712681\n",
            "Argentina             343226879\n",
            "                        ...    \n",
            "Vietnam               654822851\n",
            "West Bank and Gaza     22183278\n",
            "Yemen, Rep.           130118302\n",
            "Zambia                 76245658\n",
            "Zimbabwe               91703593\n",
            "Name: pop, Length: 142, dtype: int64\n"
          ]
        }
      ]
    },
    {
      "cell_type": "code",
      "source": [
        "# Merging/ joining\n",
        "import pandas\n",
        "citiesDataFrame = pandas.DataFrame({\"city_code\":[1,2,3,4,5], \"city_name\":[\"ujjain\",\"Indore\",\"Bangalore\",\"Mumbai\",\"Pune\"]})\n",
        "studentDataFrame=pandas.DataFrame({\"student_roll_no\":[101,102,103,104,105], \"student_name\":[\"Nmae1\",\"Name2\",\"Name3\",\"Name4\",\"Name5\"],\"city_code\":[1,2,1,3,4]})\n",
        "companyDataFrame = pandas.DataFrame({\"company_id\":[11,12,13,14,15], \"city\":[1,2,1,3,4]})\n",
        "print(citiesDataFrame)\n",
        "print(citiesDataFrame.info())\n",
        "\n",
        "students_with_cities = pandas.merge(studentDataFrame, citiesDataFrame, how = \"inner\", on=\"city_code\")\n",
        "print(students_with_cities)\n",
        "#if both dataframe may have different names for city code\n",
        "companyDataFrame=pandas.merge(citiesDataFrame, companyDataFrame, how=\"inner\", left_on=[\"city_code\"], right_on=[\"city\"])\n",
        "#print(\"companyDataFrame:\\n\",companyDataFrame)\n",
        "#print(\"type(companyDataFrame):\", type(companyDataFrame))\n",
        "#company_cities = companyDataFrame.iloc[ : , 1] # all rows first\n",
        "print(studentDataFrame)\n",
        "print(companyDataFrame)\n"
      ],
      "metadata": {
        "colab": {
          "base_uri": "https://localhost:8080/"
        },
        "id": "TDpe_g37ZNAr",
        "outputId": "014d885b-74f3-4cee-ea21-b54ecd869bcc"
      },
      "execution_count": 53,
      "outputs": [
        {
          "output_type": "stream",
          "name": "stdout",
          "text": [
            "   city_code  city_name\n",
            "0          1     ujjain\n",
            "1          2     Indore\n",
            "2          3  Bangalore\n",
            "3          4     Mumbai\n",
            "4          5       Pune\n",
            "<class 'pandas.core.frame.DataFrame'>\n",
            "RangeIndex: 5 entries, 0 to 4\n",
            "Data columns (total 2 columns):\n",
            " #   Column     Non-Null Count  Dtype \n",
            "---  ------     --------------  ----- \n",
            " 0   city_code  5 non-null      int64 \n",
            " 1   city_name  5 non-null      object\n",
            "dtypes: int64(1), object(1)\n",
            "memory usage: 212.0+ bytes\n",
            "None\n",
            "   student_roll_no student_name  city_code  city_name\n",
            "0              101        Nmae1          1     ujjain\n",
            "1              102        Name2          2     Indore\n",
            "2              103        Name3          1     ujjain\n",
            "3              104        Name4          3  Bangalore\n",
            "4              105        Name5          4     Mumbai\n",
            "   student_roll_no student_name  city_code\n",
            "0              101        Nmae1          1\n",
            "1              102        Name2          2\n",
            "2              103        Name3          1\n",
            "3              104        Name4          3\n",
            "4              105        Name5          4\n",
            "   city_code  city_name  company_id  city\n",
            "0          1     ujjain          11     1\n",
            "1          1     ujjain          13     1\n",
            "2          2     Indore          12     2\n",
            "3          3  Bangalore          14     3\n",
            "4          4     Mumbai          15     4\n"
          ]
        }
      ]
    },
    {
      "cell_type": "code",
      "source": [
        "# Read json file\n",
        "import json\n",
        "#opening json file\n",
        "f=open('Employee.json')\n",
        "#Return JSON object as Dictionary\n",
        "employee_data = json.load(f)\n",
        "\n",
        "#Iterating through the Json list\n",
        "for i in employee_data['emp_details']:\n",
        "    print(i)\n",
        "    print(type(i))\n",
        "# closing file\n",
        "f.close()\n",
        ""
      ],
      "metadata": {
        "colab": {
          "base_uri": "https://localhost:8080/"
        },
        "id": "NesiYEe7d9My",
        "outputId": "b342eb09-89ab-4d2d-ee77-a58b8900c1ea"
      },
      "execution_count": 59,
      "outputs": [
        {
          "output_type": "stream",
          "name": "stdout",
          "text": [
            "{'emp_name': 'XYZ', 'email_id': 'XYZ@gmail.com', 'job_profile': 'Data Scientist'}\n",
            "<class 'dict'>\n",
            "{'emp_name': 'A', 'email_id': 'A@gmail.com', 'job_profile': 'Manager'}\n",
            "<class 'dict'>\n"
          ]
        }
      ]
    },
    {
      "cell_type": "code",
      "source": [
        "import pandas\n",
        "series_data = pandas.Series([10,20,30,40,50])\n",
        "#Apply the builtin functions sum and len using .agg\n",
        "result = series_data.agg([sum, len])\n",
        "# this returns a new series where the index is the name of the function, and the values are the result of applying those functions.\n",
        "print(result)"
      ],
      "metadata": {
        "colab": {
          "base_uri": "https://localhost:8080/"
        },
        "id": "BvZxYmdmiewz",
        "outputId": "34bd463f-1a83-4b46-b262-2e16da24d893"
      },
      "execution_count": 67,
      "outputs": [
        {
          "output_type": "stream",
          "name": "stdout",
          "text": [
            "sum    150\n",
            "len      5\n",
            "dtype: int64\n"
          ]
        },
        {
          "output_type": "stream",
          "name": "stderr",
          "text": [
            "/tmp/ipython-input-67-1264989500.py:4: FutureWarning: The provided callable <built-in function sum> is currently using Series.sum. In a future version of pandas, the provided callable will be used directly. To keep current behavior pass the string \"sum\" instead.\n",
            "  result = series_data.agg([sum, len])\n"
          ]
        }
      ]
    },
    {
      "cell_type": "code",
      "source": [
        "def string_length(s):\n",
        "    print(\"string_length called\")\n",
        "    return len(s)\n",
        "def int_length(i):\n",
        "    print(\"int_legth called\")\n",
        "    return string_length(str(i))\n",
        "\n",
        "def get_length_of_elements(t):\n",
        "  a=[]\n",
        "  for x in t:\n",
        "   if isinstance(x, int): a.append(int_length)\n",
        "   if isinstance(x, str): a.append(string_length)\n",
        "  return  length_of_element_iterator_factory(t,a)\n",
        "\n",
        "class length_of_element_iterator_factory:\n",
        "    def __init__(self, t, a):\n",
        "       self.t=t\n",
        "       self.a=a\n",
        "    def __iter__(self):\n",
        "       return length_of_element_iterator(self)\n",
        "\n",
        "class length_of_element_iterator:\n",
        "    def __init__(self, obj):\n",
        "        self.t= obj.t\n",
        "        self.a= obj.a\n",
        "        self.index= 0\n",
        "    def __next__(self):\n",
        "        if self.index >= len(self.t):\n",
        "           raise StopIteration\n",
        "        k= self.a[self.index](self.t[self.index])\n",
        "        self.index +=1\n",
        "        return k\n",
        "\n",
        "\n",
        "\n",
        "x=(10,20,\"Good\", \"Example of functional programming\", 30)\n",
        "b= get_length_of_elements(x)\n",
        "print()\n",
        "print()\n",
        "print(\"called length of elements\")\n",
        "print()\n",
        "print()\n",
        "for i in b: print(i)"
      ],
      "metadata": {
        "colab": {
          "base_uri": "https://localhost:8080/"
        },
        "id": "JwPUpeT7kRLz",
        "outputId": "fae25744-9afa-481f-f6e2-a7db17b6902e"
      },
      "execution_count": 68,
      "outputs": [
        {
          "output_type": "stream",
          "name": "stdout",
          "text": [
            "\n",
            "\n",
            "called length of elements\n",
            "\n",
            "\n",
            "int_legth called\n",
            "string_length called\n",
            "2\n",
            "int_legth called\n",
            "string_length called\n",
            "2\n",
            "string_length called\n",
            "4\n",
            "string_length called\n",
            "33\n",
            "int_legth called\n",
            "string_length called\n",
            "2\n"
          ]
        }
      ]
    },
    {
      "cell_type": "code",
      "source": [],
      "metadata": {
        "id": "JOsj6ZpBk5uH"
      },
      "execution_count": null,
      "outputs": []
    }
  ]
}