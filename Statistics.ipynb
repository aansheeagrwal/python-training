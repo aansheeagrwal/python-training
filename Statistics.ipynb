{
  "nbformat": 4,
  "nbformat_minor": 0,
  "metadata": {
    "colab": {
      "provenance": [],
      "authorship_tag": "ABX9TyP8+qYK+nliIZoGRZzOQtvv",
      "include_colab_link": true
    },
    "kernelspec": {
      "name": "python3",
      "display_name": "Python 3"
    },
    "language_info": {
      "name": "python"
    }
  },
  "cells": [
    {
      "cell_type": "markdown",
      "metadata": {
        "id": "view-in-github",
        "colab_type": "text"
      },
      "source": [
        "<a href=\"https://colab.research.google.com/github/aansheeagrwal/python-training/blob/main/Statistics.ipynb\" target=\"_parent\"><img src=\"https://colab.research.google.com/assets/colab-badge.svg\" alt=\"Open In Colab\"/></a>"
      ]
    },
    {
      "cell_type": "code",
      "execution_count": null,
      "metadata": {
        "colab": {
          "base_uri": "https://localhost:8080/"
        },
        "id": "PFMKqpVE9oyw",
        "outputId": "08b7c5cd-bfb7-40e4-d580-f02bc2f6aafa"
      },
      "outputs": [
        {
          "output_type": "stream",
          "name": "stdout",
          "text": [
            "wt:  [0.5, 1, 8, 0.4]\n",
            "data:  [20, 100, 3, 40]\n",
            "prod:  [ 10. 100.  24.  16.]\n",
            "type(prod):  <class 'numpy.ndarray'>\n",
            "sum of product of wt and data:  150.0\n",
            "weighted mmean:  15.15151515151515\n",
            "Weighted mean using direct function:  15.15151515151515\n",
            "type(sum):  <class 'numpy.float64'>\n",
            "Weighted mean using statistics:  40.75\n"
          ]
        }
      ],
      "source": [
        "##\"Techniques for Data Preprocessing\"\n",
        "\n",
        "import numpy\n",
        "import statistics\n",
        "wt=[.5,1,8,.4]\n",
        "data=[20,100,3,40]\n",
        "\n",
        "prod=numpy.multiply(data,wt)\n",
        "print('wt: ',wt)\n",
        "print('data: ',data)\n",
        "print('prod: ',prod)\n",
        "print('type(prod): ',type(prod))\n",
        "sum=numpy.sum(prod)\n",
        "print('sum of product of wt and data: ',sum)\n",
        "wtm=sum/numpy.sum(wt)\n",
        "print('weighted mmean: ',wtm)\n",
        "wtm1=numpy.average(data, weights=wt)\n",
        "print('Weighted mean using direct function: ', wtm1)\n",
        "print('type(sum): ',type(sum))\n",
        "print('Weighted mean using statistics: ',statistics.mean(data))\n",
        "# Use direct method available in statistics\n"
      ]
    },
    {
      "cell_type": "markdown",
      "source": [
        "If the number of observation is odd then the median is middle value (After arranging all observation in either ascending or descending order)\n",
        "If the number of observations are even the median is arithmetic mean of the middle most to the observations(After arranging all observation in either ascending or descending order)"
      ],
      "metadata": {
        "id": "CQwCc-fTJOgQ"
      }
    },
    {
      "cell_type": "markdown",
      "source": [
        "**\"Median for grouped data\"** Median=L+((N/2-F)/f)C"
      ],
      "metadata": {
        "id": "cnhk0BZHJ0UO"
      }
    },
    {
      "cell_type": "code",
      "source": [
        "data1=numpy.matrix(((10,20,45,30,100),\n",
        "                    (10,20,45,30,100),(10,20,45,30,100)))\n",
        "w1=numpy.matrix(((.2,.4,.1,.7,.3),\n",
        "                 (.2,.4,.1,.7,.3),(.2,.4,.1,.7,.3)))\n",
        "\n",
        "wgt_mean1=numpy.average(data1,weights=w1,axis=1)\n",
        "print(\"wighted mean of matrix: \",wgt_mean1)"
      ],
      "metadata": {
        "colab": {
          "base_uri": "https://localhost:8080/"
        },
        "id": "Jzf4zY_tJz7b",
        "outputId": "3586dd78-a8ed-4902-b923-31bed0ff88ea"
      },
      "execution_count": null,
      "outputs": [
        {
          "output_type": "stream",
          "name": "stdout",
          "text": [
            "wighted mean of matrix:  [[38.52941176]\n",
            " [38.52941176]\n",
            " [38.52941176]]\n"
          ]
        }
      ]
    },
    {
      "cell_type": "code",
      "source": [
        "#Update for grouped data\n",
        "import numpy\n",
        "import statistics\n",
        "import collections\n",
        "a=[100,200,300,100,200,300,400,500,300,700,800,900,1000,800]\n",
        "b=numpy.sort(a)\n",
        "print(type(b))\n",
        "\n",
        "c=collections.Counter(b) #counter will return dict of key and values and order will be random so, no need to provide sorted input\n",
        "print('type(c): ',type(c))\n",
        "print('type(c.keys()): ',type(c.keys()), 'type(c.values()): ',type(c.values()))\n",
        "uniqueList, frequencyList = list(c.keys()), list(c.values())\n",
        "print('unique list of data: ',uniqueList)\n",
        "print('frequency set: ',frequencyList)\n",
        "\n",
        "cumSumOfFreq = numpy.cumsum(frequencyList)\n",
        "print('cummulative sum of frequencyList: ',cumSumOfFreq)\n",
        "print(len(cumSumOfFreq))\n",
        "lastElement=cumSumOfFreq[len(cumSumOfFreq)-1]\n",
        "\n",
        "print('last element of cumulative sum list of frequency: ', lastElement)\n",
        "print(type(lastElement))\n",
        "j=lastElement/2\n",
        "#????\n",
        "print(j)\n",
        "#use direct function to find grouped median\n",
        "print(statistics.median_grouped(a))\n"
      ],
      "metadata": {
        "id": "S0qM4cy_Fp2a",
        "colab": {
          "base_uri": "https://localhost:8080/"
        },
        "outputId": "fc928ac2-0687-4b48-828c-0ea7efdb6b48"
      },
      "execution_count": null,
      "outputs": [
        {
          "output_type": "stream",
          "name": "stdout",
          "text": [
            "<class 'numpy.ndarray'>\n",
            "type(c):  <class 'collections.Counter'>\n",
            "type(c.keys()):  <class 'dict_keys'> type(c.values()):  <class 'dict_values'>\n",
            "unique list of data:  [np.int64(100), np.int64(200), np.int64(300), np.int64(400), np.int64(500), np.int64(700), np.int64(800), np.int64(900), np.int64(1000)]\n",
            "frequency set:  [2, 2, 3, 1, 1, 1, 2, 1, 1]\n",
            "cummulative sum of frequencyList:  [ 2  4  7  8  9 10 12 13 14]\n",
            "9\n",
            "last element of cumulative sum list of frequency:  14\n",
            "<class 'numpy.int64'>\n",
            "7.0\n",
            "399.5\n"
          ]
        }
      ]
    },
    {
      "cell_type": "code",
      "source": [
        "import numpy\n",
        "import statistics\n",
        "import collections\n",
        "\n",
        "a = [100, 200, 300, 100, 200, 300, 400, 500, 300, 700, 800, 900, 1000, 800]\n",
        "b = numpy.sort(a)\n",
        "print(type(b))\n",
        "\n",
        "c = collections.Counter(b)\n",
        "print('type(c): ', type(c))\n",
        "print('type(c.keys()): ', type(c.keys()), 'type(c.values()): ', type(c.values()))\n",
        "uniqueList, frequencyList = list(c.keys()), list(c.values())\n",
        "print('unique list of data: ', uniqueList)\n",
        "print('frequency set: ', frequencyList)\n",
        "\n",
        "cumSumOfFreq = numpy.cumsum(frequencyList)\n",
        "print('cumulative sum of frequencyList: ', cumSumOfFreq)\n",
        "print(len(cumSumOfFreq))\n",
        "lastElement = cumSumOfFreq[-1]\n",
        "print('last element of cumulative sum list of frequency: ', lastElement)\n",
        "\n",
        "j = lastElement / 2  # Median position (N/2)\n",
        "print('Median Position (N/2):', j)\n",
        "\n",
        "# Find the median class (or value) — the first cumulative frequency ≥ j\n",
        "for idx, cum_freq in enumerate(cumSumOfFreq):\n",
        "    if cum_freq >= j:\n",
        "        median_value = uniqueList[idx]\n",
        "        break\n",
        "\n",
        "print(\"Grouped Median (using Numpy and logic):\", median_value)\n",
        "\n",
        "# You can also compare it to median using the full data (ungrouped method)\n",
        "print(\"Ungrouped Median using statistics module:\", statistics.median(a))\n"
      ],
      "metadata": {
        "colab": {
          "base_uri": "https://localhost:8080/"
        },
        "id": "rChPm3bqR1uL",
        "outputId": "013bfdee-825a-4503-ed4b-0a122b69b8f7"
      },
      "execution_count": null,
      "outputs": [
        {
          "output_type": "stream",
          "name": "stdout",
          "text": [
            "<class 'numpy.ndarray'>\n",
            "type(c):  <class 'collections.Counter'>\n",
            "type(c.keys()):  <class 'dict_keys'> type(c.values()):  <class 'dict_values'>\n",
            "unique list of data:  [np.int64(100), np.int64(200), np.int64(300), np.int64(400), np.int64(500), np.int64(700), np.int64(800), np.int64(900), np.int64(1000)]\n",
            "frequency set:  [2, 2, 3, 1, 1, 1, 2, 1, 1]\n",
            "cumulative sum of frequencyList:  [ 2  4  7  8  9 10 12 13 14]\n",
            "9\n",
            "last element of cumulative sum list of frequency:  14\n",
            "Median Position (N/2): 7.0\n",
            "Grouped Median (using Numpy and logic): 300\n",
            "Ungrouped Median using statistics module: 350.0\n"
          ]
        }
      ]
    },
    {
      "cell_type": "code",
      "source": [
        "import numpy\n",
        "import statistics\n",
        "a=[10,2,40,35]\n",
        "print('list: ',a)\n",
        "\n",
        "#steps to calculate Variance and standard daviation\n",
        "mean=numpy.mean(a)\n",
        "print('mean of list:', mean)\n",
        "\n",
        "diff=numpy.subtract(a,mean)\n",
        "print('difference list of data set and mean:',diff)\n",
        "\n",
        "squaredList = numpy.square(diff)\n",
        "print('Squared difference list: ',squaredList)\n",
        "\n",
        "var=statistics.mean(squaredList)\n",
        "print('Variance is: ',var)\n",
        "\n",
        "stdDeviation=numpy.sqrt(var)\n",
        "print('STD DEV: ',stdDeviation)\n",
        "\n",
        "#Variance with direct function\n",
        "var=statistics.pvariance(a)\n",
        "print('Variance direct: ',var)\n",
        "\n",
        "stdDeviation=statistics.pstdev(a)\n",
        "print('STD DEV direct: ',stdDeviation)\n"
      ],
      "metadata": {
        "id": "BMB0ga4NT-UH",
        "colab": {
          "base_uri": "https://localhost:8080/"
        },
        "outputId": "4266f939-cd4b-404f-c625-41162c129564"
      },
      "execution_count": 2,
      "outputs": [
        {
          "output_type": "stream",
          "name": "stdout",
          "text": [
            "list:  [10, 2, 40, 35]\n",
            "mean of list: 21.75\n",
            "difference list of data set and mean: [-11.75 -19.75  18.25  13.25]\n",
            "Squared difference list:  [138.0625 390.0625 333.0625 175.5625]\n",
            "Variance is:  259.1875\n",
            "STD DEV:  16.099301227071937\n",
            "Variance direct:  259.1875\n",
            "STD DEV direct:  16.099301227071937\n"
          ]
        }
      ]
    },
    {
      "cell_type": "markdown",
      "source": [
        "Seaborn library is build to support pandas dataframe and almost methods present in matplotlib"
      ],
      "metadata": {
        "id": "mspeJ9lRTdAv"
      }
    },
    {
      "cell_type": "code",
      "source": [],
      "metadata": {
        "id": "x_J-62OTRn4A"
      },
      "execution_count": null,
      "outputs": []
    }
  ]
}