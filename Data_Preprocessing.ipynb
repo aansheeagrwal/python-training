{
  "nbformat": 4,
  "nbformat_minor": 0,
  "metadata": {
    "colab": {
      "provenance": [],
      "authorship_tag": "ABX9TyNwgZYbjf4qH9Uvvuh60VgO",
      "include_colab_link": true
    },
    "kernelspec": {
      "name": "python3",
      "display_name": "Python 3"
    },
    "language_info": {
      "name": "python"
    }
  },
  "cells": [
    {
      "cell_type": "markdown",
      "metadata": {
        "id": "view-in-github",
        "colab_type": "text"
      },
      "source": [
        "<a href=\"https://colab.research.google.com/github/aansheeagrwal/python-training/blob/main/Data_Preprocessing.ipynb\" target=\"_parent\"><img src=\"https://colab.research.google.com/assets/colab-badge.svg\" alt=\"Open In Colab\"/></a>"
      ]
    },
    {
      "cell_type": "code",
      "execution_count": 2,
      "metadata": {
        "id": "v7Bm28InVNUq"
      },
      "outputs": [],
      "source": [
        "import pandas as pd"
      ]
    },
    {
      "cell_type": "code",
      "source": [
        "dataset = pd.read_csv('Data.csv')\n"
      ],
      "metadata": {
        "id": "EhvINCiVYq3k"
      },
      "execution_count": 11,
      "outputs": []
    },
    {
      "cell_type": "code",
      "source": [
        "x = dataset.iloc[:, :-1].values\n",
        "type(x)\n",
        "y = dataset.iloc[:, :-1].values"
      ],
      "metadata": {
        "id": "KAYaL8hgZnMV"
      },
      "execution_count": 12,
      "outputs": []
    },
    {
      "cell_type": "code",
      "source": [
        "print(x)"
      ],
      "metadata": {
        "colab": {
          "base_uri": "https://localhost:8080/"
        },
        "id": "ahLsxI1KZAwK",
        "outputId": "5d30794c-702a-4300-f041-7a991ceb8989"
      },
      "execution_count": 9,
      "outputs": [
        {
          "output_type": "stream",
          "name": "stdout",
          "text": [
            "[['France' 44.0 72000.0]\n",
            " ['Spain' 27.0 48000.0]\n",
            " ['Germany' 30.0 54000.0]\n",
            " ['Spain' 38.0 61000.0]\n",
            " ['Germany' 40.0 nan]\n",
            " ['France' 35.0 58000.0]\n",
            " ['Spain' nan 52000.0]\n",
            " ['France' 48.0 79000.0]\n",
            " ['Germany' 50.0 83000.0]\n",
            " ['France' 37.0 67000.0]]\n"
          ]
        }
      ]
    },
    {
      "cell_type": "code",
      "source": [
        "from sklearn.model_selection import train_test_split\n",
        "x_train, x_test, y_train, y_test = train_test_split(x, y, test_size=0.2, random_state=0)"
      ],
      "metadata": {
        "id": "qEODwelFZY9R"
      },
      "execution_count": 13,
      "outputs": []
    },
    {
      "cell_type": "code",
      "source": [
        "x_train"
      ],
      "metadata": {
        "colab": {
          "base_uri": "https://localhost:8080/"
        },
        "id": "5DPqHZvxeEcL",
        "outputId": "85868427-1005-4712-d0a4-17d7d3ca81d3"
      },
      "execution_count": 14,
      "outputs": [
        {
          "output_type": "execute_result",
          "data": {
            "text/plain": [
              "array([['Germany', 40.0, nan],\n",
              "       ['France', 37.0, 67000.0],\n",
              "       ['Spain', 27.0, 48000.0],\n",
              "       ['Spain', nan, 52000.0],\n",
              "       ['France', 48.0, 79000.0],\n",
              "       ['Spain', 38.0, 61000.0],\n",
              "       ['France', 44.0, 72000.0],\n",
              "       ['France', 35.0, 58000.0]], dtype=object)"
            ]
          },
          "metadata": {},
          "execution_count": 14
        }
      ]
    },
    {
      "cell_type": "code",
      "source": [
        "y_train"
      ],
      "metadata": {
        "colab": {
          "base_uri": "https://localhost:8080/"
        },
        "id": "2gkZN5NqeIq0",
        "outputId": "a3cd2d11-97aa-48a9-f2c2-396c6215d62e"
      },
      "execution_count": 16,
      "outputs": [
        {
          "output_type": "execute_result",
          "data": {
            "text/plain": [
              "array([['Germany', 40.0, nan],\n",
              "       ['France', 37.0, 67000.0],\n",
              "       ['Spain', 27.0, 48000.0],\n",
              "       ['Spain', nan, 52000.0],\n",
              "       ['France', 48.0, 79000.0],\n",
              "       ['Spain', 38.0, 61000.0],\n",
              "       ['France', 44.0, 72000.0],\n",
              "       ['France', 35.0, 58000.0]], dtype=object)"
            ]
          },
          "metadata": {},
          "execution_count": 16
        }
      ]
    },
    {
      "cell_type": "code",
      "source": [
        "x_test"
      ],
      "metadata": {
        "colab": {
          "base_uri": "https://localhost:8080/"
        },
        "id": "YVJTKMu7eKTu",
        "outputId": "bb702c64-3631-4f14-a376-d285c574ec81"
      },
      "execution_count": 17,
      "outputs": [
        {
          "output_type": "execute_result",
          "data": {
            "text/plain": [
              "array([['Germany', 30.0, 54000.0],\n",
              "       ['Germany', 50.0, 83000.0]], dtype=object)"
            ]
          },
          "metadata": {},
          "execution_count": 17
        }
      ]
    },
    {
      "cell_type": "code",
      "source": [
        "y_test"
      ],
      "metadata": {
        "colab": {
          "base_uri": "https://localhost:8080/"
        },
        "id": "rqXwVBFyeNhd",
        "outputId": "87873824-029e-4c68-ef7a-6d417560eb68"
      },
      "execution_count": 18,
      "outputs": [
        {
          "output_type": "execute_result",
          "data": {
            "text/plain": [
              "array([['Germany', 30.0, 54000.0],\n",
              "       ['Germany', 50.0, 83000.0]], dtype=object)"
            ]
          },
          "metadata": {},
          "execution_count": 18
        }
      ]
    },
    {
      "cell_type": "code",
      "source": [
        "train_test_split"
      ],
      "metadata": {
        "colab": {
          "base_uri": "https://localhost:8080/",
          "height": 203
        },
        "id": "Kr_H_0fSeOp3",
        "outputId": "809121de-ed18-4c9f-a287-a2dd646cf15d"
      },
      "execution_count": 19,
      "outputs": [
        {
          "output_type": "execute_result",
          "data": {
            "text/plain": [
              "<function sklearn.model_selection._split.train_test_split(*arrays, test_size=None, train_size=None, random_state=None, shuffle=True, stratify=None)>"
            ],
            "text/html": [
              "<div style=\"max-width:800px; border: 1px solid var(--colab-border-color);\"><style>\n",
              "      pre.function-repr-contents {\n",
              "        overflow-x: auto;\n",
              "        padding: 8px 12px;\n",
              "        max-height: 500px;\n",
              "      }\n",
              "\n",
              "      pre.function-repr-contents.function-repr-contents-collapsed {\n",
              "        cursor: pointer;\n",
              "        max-height: 100px;\n",
              "      }\n",
              "    </style>\n",
              "    <pre style=\"white-space: initial; background:\n",
              "         var(--colab-secondary-surface-color); padding: 8px 12px;\n",
              "         border-bottom: 1px solid var(--colab-border-color);\"><b>sklearn.model_selection._split.train_test_split</b><br/>def train_test_split(*arrays, test_size=None, train_size=None, random_state=None, shuffle=True, stratify=None)</pre><pre class=\"function-repr-contents function-repr-contents-collapsed\" style=\"\"><a class=\"filepath\" style=\"display:none\" href=\"#\">/usr/local/lib/python3.11/dist-packages/sklearn/model_selection/_split.py</a>Split arrays or matrices into random train and test subsets.\n",
              "\n",
              "Quick utility that wraps input validation,\n",
              "``next(ShuffleSplit().split(X, y))``, and application to input data\n",
              "into a single call for splitting (and optionally subsampling) data into a\n",
              "one-liner.\n",
              "\n",
              "Read more in the :ref:`User Guide &lt;cross_validation&gt;`.\n",
              "\n",
              "Parameters\n",
              "----------\n",
              "*arrays : sequence of indexables with same length / shape[0]\n",
              "    Allowed inputs are lists, numpy arrays, scipy-sparse\n",
              "    matrices or pandas dataframes.\n",
              "\n",
              "test_size : float or int, default=None\n",
              "    If float, should be between 0.0 and 1.0 and represent the proportion\n",
              "    of the dataset to include in the test split. If int, represents the\n",
              "    absolute number of test samples. If None, the value is set to the\n",
              "    complement of the train size. If ``train_size`` is also None, it will\n",
              "    be set to 0.25.\n",
              "\n",
              "train_size : float or int, default=None\n",
              "    If float, should be between 0.0 and 1.0 and represent the\n",
              "    proportion of the dataset to include in the train split. If\n",
              "    int, represents the absolute number of train samples. If None,\n",
              "    the value is automatically set to the complement of the test size.\n",
              "\n",
              "random_state : int, RandomState instance or None, default=None\n",
              "    Controls the shuffling applied to the data before applying the split.\n",
              "    Pass an int for reproducible output across multiple function calls.\n",
              "    See :term:`Glossary &lt;random_state&gt;`.\n",
              "\n",
              "shuffle : bool, default=True\n",
              "    Whether or not to shuffle the data before splitting. If shuffle=False\n",
              "    then stratify must be None.\n",
              "\n",
              "stratify : array-like, default=None\n",
              "    If not None, data is split in a stratified fashion, using this as\n",
              "    the class labels.\n",
              "    Read more in the :ref:`User Guide &lt;stratification&gt;`.\n",
              "\n",
              "Returns\n",
              "-------\n",
              "splitting : list, length=2 * len(arrays)\n",
              "    List containing train-test split of inputs.\n",
              "\n",
              "    .. versionadded:: 0.16\n",
              "        If the input is sparse, the output will be a\n",
              "        ``scipy.sparse.csr_matrix``. Else, output type is the same as the\n",
              "        input type.\n",
              "\n",
              "Examples\n",
              "--------\n",
              "&gt;&gt;&gt; import numpy as np\n",
              "&gt;&gt;&gt; from sklearn.model_selection import train_test_split\n",
              "&gt;&gt;&gt; X, y = np.arange(10).reshape((5, 2)), range(5)\n",
              "&gt;&gt;&gt; X\n",
              "array([[0, 1],\n",
              "       [2, 3],\n",
              "       [4, 5],\n",
              "       [6, 7],\n",
              "       [8, 9]])\n",
              "&gt;&gt;&gt; list(y)\n",
              "[0, 1, 2, 3, 4]\n",
              "\n",
              "&gt;&gt;&gt; X_train, X_test, y_train, y_test = train_test_split(\n",
              "...     X, y, test_size=0.33, random_state=42)\n",
              "...\n",
              "&gt;&gt;&gt; X_train\n",
              "array([[4, 5],\n",
              "       [0, 1],\n",
              "       [6, 7]])\n",
              "&gt;&gt;&gt; y_train\n",
              "[2, 0, 3]\n",
              "&gt;&gt;&gt; X_test\n",
              "array([[2, 3],\n",
              "       [8, 9]])\n",
              "&gt;&gt;&gt; y_test\n",
              "[1, 4]\n",
              "\n",
              "&gt;&gt;&gt; train_test_split(y, shuffle=False)\n",
              "[[0, 1, 2], [3, 4]]</pre>\n",
              "      <script>\n",
              "      if (google.colab.kernel.accessAllowed && google.colab.files && google.colab.files.view) {\n",
              "        for (const element of document.querySelectorAll('.filepath')) {\n",
              "          element.style.display = 'block'\n",
              "          element.onclick = (event) => {\n",
              "            event.preventDefault();\n",
              "            event.stopPropagation();\n",
              "            google.colab.files.view(element.textContent, 2734);\n",
              "          };\n",
              "        }\n",
              "      }\n",
              "      for (const element of document.querySelectorAll('.function-repr-contents')) {\n",
              "        element.onclick = (event) => {\n",
              "          event.preventDefault();\n",
              "          event.stopPropagation();\n",
              "          element.classList.toggle('function-repr-contents-collapsed');\n",
              "        };\n",
              "      }\n",
              "      </script>\n",
              "      </div>"
            ]
          },
          "metadata": {},
          "execution_count": 19
        }
      ]
    },
    {
      "cell_type": "code",
      "source": [
        "import numpy as np\n",
        "from sklearn.impute import SimpleImputer\n",
        "imputer = SimpleImputer(missing_values=np.nan, strategy='mean')\n",
        "imputer.fit(x[:, 1:3])\n",
        "x[:, 1:3] = imputer.transform(x[:, 1:3])"
      ],
      "metadata": {
        "id": "uraL3wM1gKic"
      },
      "execution_count": 21,
      "outputs": []
    },
    {
      "cell_type": "code",
      "source": [
        "print(x)"
      ],
      "metadata": {
        "colab": {
          "base_uri": "https://localhost:8080/"
        },
        "id": "-m-E4mJPk3Mu",
        "outputId": "ae27587f-da11-423c-fa97-39093d6612ea"
      },
      "execution_count": 22,
      "outputs": [
        {
          "output_type": "stream",
          "name": "stdout",
          "text": [
            "[['France' 44.0 72000.0]\n",
            " ['Spain' 27.0 48000.0]\n",
            " ['Germany' 30.0 54000.0]\n",
            " ['Spain' 38.0 61000.0]\n",
            " ['Germany' 40.0 63777.77777777778]\n",
            " ['France' 35.0 58000.0]\n",
            " ['Spain' 38.77777777777778 52000.0]\n",
            " ['France' 48.0 79000.0]\n",
            " ['Germany' 50.0 83000.0]\n",
            " ['France' 37.0 67000.0]]\n"
          ]
        }
      ]
    },
    {
      "cell_type": "code",
      "source": [
        "SimpleImputer"
      ],
      "metadata": {
        "colab": {
          "base_uri": "https://localhost:8080/",
          "height": 203
        },
        "id": "cfgPjsyWlBgB",
        "outputId": "55bf3d4b-1136-43fa-ed23-876c54c19987"
      },
      "execution_count": 23,
      "outputs": [
        {
          "output_type": "execute_result",
          "data": {
            "text/plain": [
              "sklearn.impute._base.SimpleImputer"
            ],
            "text/html": [
              "<div style=\"max-width:800px; border: 1px solid var(--colab-border-color);\"><style>\n",
              "      pre.function-repr-contents {\n",
              "        overflow-x: auto;\n",
              "        padding: 8px 12px;\n",
              "        max-height: 500px;\n",
              "      }\n",
              "\n",
              "      pre.function-repr-contents.function-repr-contents-collapsed {\n",
              "        cursor: pointer;\n",
              "        max-height: 100px;\n",
              "      }\n",
              "    </style>\n",
              "    <pre style=\"white-space: initial; background:\n",
              "         var(--colab-secondary-surface-color); padding: 8px 12px;\n",
              "         border-bottom: 1px solid var(--colab-border-color);\"><b>sklearn.impute._base.SimpleImputer</b><br/>def __init__(*, missing_values=np.nan, strategy=&#x27;mean&#x27;, fill_value=None, copy=True, add_indicator=False, keep_empty_features=False)</pre><pre class=\"function-repr-contents function-repr-contents-collapsed\" style=\"\"><a class=\"filepath\" style=\"display:none\" href=\"#\">/usr/local/lib/python3.11/dist-packages/sklearn/impute/_base.py</a>Univariate imputer for completing missing values with simple strategies.\n",
              "\n",
              "Replace missing values using a descriptive statistic (e.g. mean, median, or\n",
              "most frequent) along each column, or using a constant value.\n",
              "\n",
              "Read more in the :ref:`User Guide &lt;impute&gt;`.\n",
              "\n",
              ".. versionadded:: 0.20\n",
              "   `SimpleImputer` replaces the previous `sklearn.preprocessing.Imputer`\n",
              "   estimator which is now removed.\n",
              "\n",
              "Parameters\n",
              "----------\n",
              "missing_values : int, float, str, np.nan, None or pandas.NA, default=np.nan\n",
              "    The placeholder for the missing values. All occurrences of\n",
              "    `missing_values` will be imputed. For pandas&#x27; dataframes with\n",
              "    nullable integer dtypes with missing values, `missing_values`\n",
              "    can be set to either `np.nan` or `pd.NA`.\n",
              "\n",
              "strategy : str or Callable, default=&#x27;mean&#x27;\n",
              "    The imputation strategy.\n",
              "\n",
              "    - If &quot;mean&quot;, then replace missing values using the mean along\n",
              "      each column. Can only be used with numeric data.\n",
              "    - If &quot;median&quot;, then replace missing values using the median along\n",
              "      each column. Can only be used with numeric data.\n",
              "    - If &quot;most_frequent&quot;, then replace missing using the most frequent\n",
              "      value along each column. Can be used with strings or numeric data.\n",
              "      If there is more than one such value, only the smallest is returned.\n",
              "    - If &quot;constant&quot;, then replace missing values with fill_value. Can be\n",
              "      used with strings or numeric data.\n",
              "    - If an instance of Callable, then replace missing values using the\n",
              "      scalar statistic returned by running the callable over a dense 1d\n",
              "      array containing non-missing values of each column.\n",
              "\n",
              "    .. versionadded:: 0.20\n",
              "       strategy=&quot;constant&quot; for fixed value imputation.\n",
              "\n",
              "    .. versionadded:: 1.5\n",
              "       strategy=callable for custom value imputation.\n",
              "\n",
              "fill_value : str or numerical value, default=None\n",
              "    When strategy == &quot;constant&quot;, `fill_value` is used to replace all\n",
              "    occurrences of missing_values. For string or object data types,\n",
              "    `fill_value` must be a string.\n",
              "    If `None`, `fill_value` will be 0 when imputing numerical\n",
              "    data and &quot;missing_value&quot; for strings or object data types.\n",
              "\n",
              "copy : bool, default=True\n",
              "    If True, a copy of X will be created. If False, imputation will\n",
              "    be done in-place whenever possible. Note that, in the following cases,\n",
              "    a new copy will always be made, even if `copy=False`:\n",
              "\n",
              "    - If `X` is not an array of floating values;\n",
              "    - If `X` is encoded as a CSR matrix;\n",
              "    - If `add_indicator=True`.\n",
              "\n",
              "add_indicator : bool, default=False\n",
              "    If True, a :class:`MissingIndicator` transform will stack onto output\n",
              "    of the imputer&#x27;s transform. This allows a predictive estimator\n",
              "    to account for missingness despite imputation. If a feature has no\n",
              "    missing values at fit/train time, the feature won&#x27;t appear on\n",
              "    the missing indicator even if there are missing values at\n",
              "    transform/test time.\n",
              "\n",
              "keep_empty_features : bool, default=False\n",
              "    If True, features that consist exclusively of missing values when\n",
              "    `fit` is called are returned in results when `transform` is called.\n",
              "    The imputed value is always `0` except when `strategy=&quot;constant&quot;`\n",
              "    in which case `fill_value` will be used instead.\n",
              "\n",
              "    .. versionadded:: 1.2\n",
              "\n",
              "    .. versionchanged:: 1.6\n",
              "        Currently, when `keep_empty_feature=False` and `strategy=&quot;constant&quot;`,\n",
              "        empty features are not dropped. This behaviour will change in version\n",
              "        1.8. Set `keep_empty_feature=True` to preserve this behaviour.\n",
              "\n",
              "Attributes\n",
              "----------\n",
              "statistics_ : array of shape (n_features,)\n",
              "    The imputation fill value for each feature.\n",
              "    Computing statistics can result in `np.nan` values.\n",
              "    During :meth:`transform`, features corresponding to `np.nan`\n",
              "    statistics will be discarded.\n",
              "\n",
              "indicator_ : :class:`~sklearn.impute.MissingIndicator`\n",
              "    Indicator used to add binary indicators for missing values.\n",
              "    `None` if `add_indicator=False`.\n",
              "\n",
              "n_features_in_ : int\n",
              "    Number of features seen during :term:`fit`.\n",
              "\n",
              "    .. versionadded:: 0.24\n",
              "\n",
              "feature_names_in_ : ndarray of shape (`n_features_in_`,)\n",
              "    Names of features seen during :term:`fit`. Defined only when `X`\n",
              "    has feature names that are all strings.\n",
              "\n",
              "    .. versionadded:: 1.0\n",
              "\n",
              "See Also\n",
              "--------\n",
              "IterativeImputer : Multivariate imputer that estimates values to impute for\n",
              "    each feature with missing values from all the others.\n",
              "KNNImputer : Multivariate imputer that estimates missing features using\n",
              "    nearest samples.\n",
              "\n",
              "Notes\n",
              "-----\n",
              "Columns which only contained missing values at :meth:`fit` are discarded\n",
              "upon :meth:`transform` if strategy is not `&quot;constant&quot;`.\n",
              "\n",
              "In a prediction context, simple imputation usually performs poorly when\n",
              "associated with a weak learner. However, with a powerful learner, it can\n",
              "lead to as good or better performance than complex imputation such as\n",
              ":class:`~sklearn.impute.IterativeImputer` or :class:`~sklearn.impute.KNNImputer`.\n",
              "\n",
              "Examples\n",
              "--------\n",
              "&gt;&gt;&gt; import numpy as np\n",
              "&gt;&gt;&gt; from sklearn.impute import SimpleImputer\n",
              "&gt;&gt;&gt; imp_mean = SimpleImputer(missing_values=np.nan, strategy=&#x27;mean&#x27;)\n",
              "&gt;&gt;&gt; imp_mean.fit([[7, 2, 3], [4, np.nan, 6], [10, 5, 9]])\n",
              "SimpleImputer()\n",
              "&gt;&gt;&gt; X = [[np.nan, 2, 3], [4, np.nan, 6], [10, np.nan, 9]]\n",
              "&gt;&gt;&gt; print(imp_mean.transform(X))\n",
              "[[ 7.   2.   3. ]\n",
              " [ 4.   3.5  6. ]\n",
              " [10.   3.5  9. ]]\n",
              "\n",
              "For a more detailed example see\n",
              ":ref:`sphx_glr_auto_examples_impute_plot_missing_values.py`.</pre>\n",
              "      <script>\n",
              "      if (google.colab.kernel.accessAllowed && google.colab.files && google.colab.files.view) {\n",
              "        for (const element of document.querySelectorAll('.filepath')) {\n",
              "          element.style.display = 'block'\n",
              "          element.onclick = (event) => {\n",
              "            event.preventDefault();\n",
              "            event.stopPropagation();\n",
              "            google.colab.files.view(element.textContent, 154);\n",
              "          };\n",
              "        }\n",
              "      }\n",
              "      for (const element of document.querySelectorAll('.function-repr-contents')) {\n",
              "        element.onclick = (event) => {\n",
              "          event.preventDefault();\n",
              "          event.stopPropagation();\n",
              "          element.classList.toggle('function-repr-contents-collapsed');\n",
              "        };\n",
              "      }\n",
              "      </script>\n",
              "      </div>"
            ]
          },
          "metadata": {},
          "execution_count": 23
        }
      ]
    },
    {
      "cell_type": "code",
      "source": [
        "from sklearn.compose import ColumnTransformer\n",
        "from sklearn.preprocessing import OneHotEncoder\n",
        "ct = ColumnTransformer(transformers=[('encoder', OneHotEncoder(), [0])], remainder='passthrough')\n",
        "x = np.array(ct.fit_transform(x))"
      ],
      "metadata": {
        "id": "fdIOtk46lJv2"
      },
      "execution_count": 27,
      "outputs": []
    },
    {
      "cell_type": "code",
      "source": [],
      "metadata": {
        "id": "RyIMGfpPncJo"
      },
      "execution_count": null,
      "outputs": []
    }
  ]
}